{
 "cells": [
  {
   "cell_type": "markdown",
   "id": "7901f140",
   "metadata": {},
   "source": [
    "# Non-negative matrix factorization (NMF)\n",
    "\n",
    "- In contract to PCA, NMF models are interpretable\n",
    "- Needs all features to be non negative > 0\n",
    "- NMF expresses documents as combinations of topics (or \"themes\")\n",
    "- NMF expresses images as combinations of patterns\n",
    "- NMF has components learned from samples just like PCA\n",
    "- NMF feature values are non-negative as well\n",
    "- A sample can be reconstructed by multiplying components by feature values and add up."
   ]
  },
  {
   "cell_type": "code",
   "execution_count": 1,
   "id": "a0f1609e",
   "metadata": {},
   "outputs": [
    {
     "name": "stdout",
     "output_type": "stream",
     "text": [
      "[[5.75540836 2.3158674  5.26835446 1.88979127]\n",
      " [3.38412142 2.46082384 0.63366195 0.        ]]\n"
     ]
    },
    {
     "name": "stderr",
     "output_type": "stream",
     "text": [
      "/home/ahmed/anaconda3/lib/python3.8/site-packages/sklearn/decomposition/_nmf.py:312: FutureWarning: The 'init' value, when 'init=None' and n_components is less than n_samples and n_features, will be changed from 'nndsvd' to 'nndsvda' in 1.1 (renaming of 0.26).\n",
      "  warnings.warn((\"The 'init' value, when 'init=None' and \"\n",
      "/home/ahmed/anaconda3/lib/python3.8/site-packages/sklearn/decomposition/_nmf.py:1090: ConvergenceWarning: Maximum number of iterations 200 reached. Increase it to improve convergence.\n",
      "  warnings.warn(\"Maximum number of iterations %d reached. Increase it to\"\n"
     ]
    }
   ],
   "source": [
    "from sklearn.decomposition import NMF\n",
    "from sklearn.feature_extraction.text import TfidfVectorizer\n",
    "from sklearn import datasets\n",
    "\n",
    "iris = datasets.load_iris()\n",
    "samples = iris.data\n",
    "\n",
    "model = NMF(n_components=2)\n",
    "\n",
    "model.fit(samples)\n",
    "\n",
    "nmf_features = model.transform(samples)\n",
    "\n",
    "print(model.components_)"
   ]
  },
  {
   "cell_type": "markdown",
   "id": "e5503e7a",
   "metadata": {},
   "source": [
    "### A sample can be reconstructed by multiplying components by feature values and add up. "
   ]
  },
  {
   "cell_type": "code",
   "execution_count": 4,
   "id": "2f24096f",
   "metadata": {},
   "outputs": [
    {
     "name": "stdout",
     "output_type": "stream",
     "text": [
      "[5.1 3.5 1.4 0.2]\n",
      "[5.09564007 3.50530092 1.40269842 0.20227954]\n"
     ]
    }
   ],
   "source": [
    "#samples ~= nmf_features.dot(model.components_)\n",
    "print(samples[0, :])\n",
    "print(nmf_features[0, :].dot(model.components_))"
   ]
  },
  {
   "cell_type": "markdown",
   "id": "d4a3acca",
   "metadata": {},
   "source": [
    "# NMF applied to Wikipedia articles\n",
    "\n",
    "In the video, you saw NMF applied to transform a toy word-frequency array. Now it's your turn to apply NMF, this time using the tf-idf word-frequency array of Wikipedia articles, given as a csr matrix articles. Here, fit the model and transform the articles. In the next exercise, you'll explore the result.\n",
    "\n",
    "**Instructions**\n",
    "\n",
    "- Import NMF from sklearn.decomposition.\n",
    "- Create an NMF instance called model with 6 components.\n",
    "- Fit the model to the word count data articles.\n",
    "- Use the .transform() method of model to transform articles, and assign the result to nmf_features.\n",
    "- Print nmf_features to get a first idea what it looks like (.round(2) rounds the entries to 2 decimal places.)"
   ]
  },
  {
   "cell_type": "code",
   "execution_count": 4,
   "id": "3fea7cce",
   "metadata": {},
   "outputs": [
    {
     "data": {
      "text/html": [
       "<div>\n",
       "<style scoped>\n",
       "    .dataframe tbody tr th:only-of-type {\n",
       "        vertical-align: middle;\n",
       "    }\n",
       "\n",
       "    .dataframe tbody tr th {\n",
       "        vertical-align: top;\n",
       "    }\n",
       "\n",
       "    .dataframe thead th {\n",
       "        text-align: right;\n",
       "    }\n",
       "</style>\n",
       "<table border=\"1\" class=\"dataframe\">\n",
       "  <thead>\n",
       "    <tr style=\"text-align: right;\">\n",
       "      <th></th>\n",
       "      <th>Titles</th>\n",
       "      <th>Articles</th>\n",
       "    </tr>\n",
       "  </thead>\n",
       "  <tbody>\n",
       "    <tr>\n",
       "      <th>0</th>\n",
       "      <td>HTTP 404</td>\n",
       "      <td>The HTTP 404, 404 Not Found and 404 error mess...</td>\n",
       "    </tr>\n",
       "    <tr>\n",
       "      <th>1</th>\n",
       "      <td>Alexa Internet</td>\n",
       "      <td>Alexa Internet, Inc. is an American company ba...</td>\n",
       "    </tr>\n",
       "    <tr>\n",
       "      <th>2</th>\n",
       "      <td>Internet Explorer</td>\n",
       "      <td>Internet Explorer (formerly Microsoft Internet...</td>\n",
       "    </tr>\n",
       "    <tr>\n",
       "      <th>3</th>\n",
       "      <td>HTTP cookie</td>\n",
       "      <td>An HTTP cookie (also called web cookie, Intern...</td>\n",
       "    </tr>\n",
       "    <tr>\n",
       "      <th>4</th>\n",
       "      <td>Google Search</td>\n",
       "      <td>Google Search, also referred to as Google Web ...</td>\n",
       "    </tr>\n",
       "  </tbody>\n",
       "</table>\n",
       "</div>"
      ],
      "text/plain": [
       "              Titles                                           Articles\n",
       "0           HTTP 404  The HTTP 404, 404 Not Found and 404 error mess...\n",
       "1     Alexa Internet  Alexa Internet, Inc. is an American company ba...\n",
       "2  Internet Explorer  Internet Explorer (formerly Microsoft Internet...\n",
       "3        HTTP cookie  An HTTP cookie (also called web cookie, Intern...\n",
       "4      Google Search  Google Search, also referred to as Google Web ..."
      ]
     },
     "execution_count": 4,
     "metadata": {},
     "output_type": "execute_result"
    }
   ],
   "source": [
    "import pandas as pd\n",
    "wiki_df = pd.read_excel(\"../datasets/wikipedia.xlsx\")\n",
    "titles = wiki_df['Titles']\n",
    "wiki_df.head()"
   ]
  },
  {
   "cell_type": "code",
   "execution_count": 7,
   "id": "f1eee375",
   "metadata": {},
   "outputs": [],
   "source": [
    "from sklearn.feature_extraction.text import TfidfVectorizer\n",
    "\n",
    "# Create a TfidfVectorizer: tfidf\n",
    "tfidf = TfidfVectorizer() \n",
    "\n",
    "\n",
    "articles = tfidf.fit_transform(wiki_df.Articles.values)"
   ]
  },
  {
   "cell_type": "code",
   "execution_count": 8,
   "id": "a1d12e49",
   "metadata": {},
   "outputs": [
    {
     "name": "stderr",
     "output_type": "stream",
     "text": [
      "/home/ahmed/anaconda3/lib/python3.8/site-packages/sklearn/decomposition/_nmf.py:312: FutureWarning: The 'init' value, when 'init=None' and n_components is less than n_samples and n_features, will be changed from 'nndsvd' to 'nndsvda' in 1.1 (renaming of 0.26).\n",
      "  warnings.warn((\"The 'init' value, when 'init=None' and \"\n"
     ]
    },
    {
     "name": "stdout",
     "output_type": "stream",
     "text": [
      "[[0.   0.   0.   0.   0.   0.39]\n",
      " [0.   0.   0.   0.   0.   0.47]\n",
      " [0.01 0.04 0.02 0.01 0.02 0.45]\n",
      " [0.03 0.03 0.   0.04 0.02 0.42]\n",
      " [0.   0.   0.   0.   0.   0.63]\n",
      " [0.01 0.02 0.04 0.02 0.04 0.3 ]\n",
      " [0.02 0.06 0.   0.07 0.02 0.39]\n",
      " [0.   0.   0.   0.   0.   0.61]\n",
      " [0.02 0.04 0.03 0.03 0.06 0.36]\n",
      " [0.03 0.06 0.05 0.03 0.04 0.3 ]\n",
      " [0.01 0.11 0.   0.58 0.01 0.02]\n",
      " [0.   0.   0.   0.49 0.   0.  ]\n",
      " [0.11 0.08 0.06 0.26 0.07 0.02]\n",
      " [0.   0.   0.22 0.44 0.   0.  ]\n",
      " [0.01 0.13 0.01 0.53 0.02 0.01]\n",
      " [0.05 0.03 0.01 0.55 0.03 0.03]\n",
      " [0.02 0.01 0.01 0.56 0.02 0.01]\n",
      " [0.   0.01 0.01 0.61 0.   0.01]\n",
      " [0.02 0.   0.   0.68 0.03 0.01]\n",
      " [0.   0.   0.   0.51 0.   0.  ]\n",
      " [0.   0.   0.67 0.   0.   0.  ]\n",
      " [0.13 0.01 0.29 0.   0.08 0.  ]\n",
      " [0.17 0.02 0.29 0.   0.1  0.01]\n",
      " [0.   0.03 0.58 0.03 0.01 0.01]\n",
      " [0.   0.   0.6  0.   0.01 0.  ]\n",
      " [0.13 0.04 0.15 0.02 0.17 0.01]\n",
      " [0.   0.   0.63 0.   0.   0.  ]\n",
      " [0.03 0.02 0.57 0.01 0.02 0.  ]\n",
      " [0.   0.   0.63 0.   0.   0.  ]\n",
      " [0.   0.   0.58 0.   0.01 0.  ]\n",
      " [0.33 0.05 0.03 0.08 0.06 0.05]\n",
      " [0.5  0.   0.   0.   0.   0.  ]\n",
      " [0.27 0.07 0.04 0.06 0.07 0.03]\n",
      " [0.45 0.   0.   0.   0.   0.  ]\n",
      " [0.47 0.   0.   0.   0.   0.  ]\n",
      " [0.36 0.03 0.   0.03 0.   0.02]\n",
      " [0.3  0.06 0.   0.07 0.01 0.02]\n",
      " [0.2  0.15 0.05 0.07 0.06 0.06]\n",
      " [0.43 0.   0.   0.   0.   0.  ]\n",
      " [0.42 0.   0.   0.   0.   0.  ]\n",
      " [0.   0.41 0.   0.   0.   0.  ]\n",
      " [0.01 0.47 0.   0.   0.02 0.  ]\n",
      " [0.   0.33 0.01 0.   0.01 0.  ]\n",
      " [0.   0.42 0.   0.   0.   0.  ]\n",
      " [0.   0.4  0.01 0.   0.   0.  ]\n",
      " [0.   0.47 0.   0.   0.   0.  ]\n",
      " [0.   0.37 0.   0.   0.   0.  ]\n",
      " [0.   0.39 0.   0.03 0.01 0.01]\n",
      " [0.01 0.27 0.03 0.   0.02 0.01]\n",
      " [0.   0.38 0.   0.   0.   0.  ]\n",
      " [0.   0.   0.   0.   0.37 0.  ]\n",
      " [0.   0.   0.   0.   0.51 0.  ]\n",
      " [0.02 0.   0.02 0.04 0.56 0.02]\n",
      " [0.   0.   0.16 0.   0.36 0.  ]\n",
      " [0.   0.01 0.   0.04 0.61 0.01]\n",
      " [0.   0.03 0.   0.02 0.57 0.  ]\n",
      " [0.02 0.   0.   0.   0.5  0.01]\n",
      " [0.   0.01 0.   0.   0.57 0.  ]\n",
      " [0.   0.44 0.   0.   0.   0.  ]\n",
      " [0.04 0.02 0.04 0.   0.45 0.  ]]\n"
     ]
    }
   ],
   "source": [
    "# Import NMF\n",
    "from sklearn.decomposition import NMF\n",
    "\n",
    "# Create an NMF instance: model\n",
    "model = NMF(n_components=6)\n",
    "\n",
    "# Fit the model to articles\n",
    "model.fit(articles)\n",
    "\n",
    "# Transform the articles: nmf_features\n",
    "nmf_features = model.transform(articles)\n",
    "\n",
    "# Print the NMF features\n",
    "print(nmf_features.round(2))"
   ]
  },
  {
   "cell_type": "markdown",
   "id": "0563449b",
   "metadata": {},
   "source": [
    "# NMF features of the Wikipedia articles\n",
    "\n",
    "Now you will explore the NMF features you created in the previous exercise. A solution to the previous exercise has been pre-loaded, so the array nmf_features is available. Also available is a list titles giving the title of each Wikipedia article.\n",
    "\n",
    "When investigating the features, notice that for both actors, the NMF feature 3 has by far the highest value. This means that both articles are reconstructed using mainly the 3rd NMF component. In the next video, you'll see why: NMF components represent topics (for instance, acting!).\n",
    "\n",
    "**Instructions**\n",
    "\n",
    "- Import pandas as pd.\n",
    "- Create a DataFrame df from nmf_features using pd.DataFrame(). Set the index to titles using index=titles.\n",
    "- Use the .loc[] accessor of df to select the row with title 'Anne Hathaway', and print the result. These are the NMF features for the article about the actress Anne Hathaway.\n",
    "- Repeat the last step for 'Denzel Washington' (another actor).\n",
    "\n"
   ]
  },
  {
   "cell_type": "code",
   "execution_count": 9,
   "id": "53ccd91e",
   "metadata": {},
   "outputs": [
    {
     "name": "stdout",
     "output_type": "stream",
     "text": [
      "0    0.000000\n",
      "1    0.000000\n",
      "2    0.629765\n",
      "3    0.000000\n",
      "4    0.000000\n",
      "5    0.000000\n",
      "Name: Anne Hathaway, dtype: float64\n",
      "0    0.169159\n",
      "1    0.021191\n",
      "2    0.285659\n",
      "3    0.004857\n",
      "4    0.103946\n",
      "5    0.006519\n",
      "Name: Denzel Washington, dtype: float64\n"
     ]
    }
   ],
   "source": [
    "# Import pandas\n",
    "import pandas as pd\n",
    "\n",
    "# Create a pandas DataFrame: df\n",
    "df = pd.DataFrame(nmf_features, index=titles)\n",
    "\n",
    "# Print the row for 'Anne Hathaway'\n",
    "print(df.loc['Anne Hathaway'])\n",
    "\n",
    "# Print the row for 'Denzel Washington'\n",
    "print(df.loc['Denzel Washington'])"
   ]
  },
  {
   "cell_type": "code",
   "execution_count": 10,
   "id": "a3404bd1",
   "metadata": {},
   "outputs": [
    {
     "data": {
      "text/html": [
       "<div>\n",
       "<style scoped>\n",
       "    .dataframe tbody tr th:only-of-type {\n",
       "        vertical-align: middle;\n",
       "    }\n",
       "\n",
       "    .dataframe tbody tr th {\n",
       "        vertical-align: top;\n",
       "    }\n",
       "\n",
       "    .dataframe thead th {\n",
       "        text-align: right;\n",
       "    }\n",
       "</style>\n",
       "<table border=\"1\" class=\"dataframe\">\n",
       "  <thead>\n",
       "    <tr style=\"text-align: right;\">\n",
       "      <th></th>\n",
       "      <th>0</th>\n",
       "      <th>1</th>\n",
       "      <th>2</th>\n",
       "      <th>3</th>\n",
       "      <th>4</th>\n",
       "      <th>5</th>\n",
       "    </tr>\n",
       "    <tr>\n",
       "      <th>Titles</th>\n",
       "      <th></th>\n",
       "      <th></th>\n",
       "      <th></th>\n",
       "      <th></th>\n",
       "      <th></th>\n",
       "      <th></th>\n",
       "    </tr>\n",
       "  </thead>\n",
       "  <tbody>\n",
       "    <tr>\n",
       "      <th>HTTP 404</th>\n",
       "      <td>0.000000</td>\n",
       "      <td>0.000000</td>\n",
       "      <td>0.000000</td>\n",
       "      <td>0.000000</td>\n",
       "      <td>0.000000</td>\n",
       "      <td>0.394078</td>\n",
       "    </tr>\n",
       "    <tr>\n",
       "      <th>Alexa Internet</th>\n",
       "      <td>0.000000</td>\n",
       "      <td>0.000000</td>\n",
       "      <td>0.000292</td>\n",
       "      <td>0.000000</td>\n",
       "      <td>0.000000</td>\n",
       "      <td>0.468417</td>\n",
       "    </tr>\n",
       "    <tr>\n",
       "      <th>Internet Explorer</th>\n",
       "      <td>0.012010</td>\n",
       "      <td>0.037690</td>\n",
       "      <td>0.022300</td>\n",
       "      <td>0.013792</td>\n",
       "      <td>0.020309</td>\n",
       "      <td>0.445394</td>\n",
       "    </tr>\n",
       "    <tr>\n",
       "      <th>HTTP cookie</th>\n",
       "      <td>0.027529</td>\n",
       "      <td>0.026064</td>\n",
       "      <td>0.000000</td>\n",
       "      <td>0.037584</td>\n",
       "      <td>0.024798</td>\n",
       "      <td>0.419434</td>\n",
       "    </tr>\n",
       "    <tr>\n",
       "      <th>Google Search</th>\n",
       "      <td>0.000000</td>\n",
       "      <td>0.000000</td>\n",
       "      <td>0.000000</td>\n",
       "      <td>0.000000</td>\n",
       "      <td>0.000000</td>\n",
       "      <td>0.627722</td>\n",
       "    </tr>\n",
       "  </tbody>\n",
       "</table>\n",
       "</div>"
      ],
      "text/plain": [
       "                          0         1         2         3         4         5\n",
       "Titles                                                                       \n",
       "HTTP 404           0.000000  0.000000  0.000000  0.000000  0.000000  0.394078\n",
       "Alexa Internet     0.000000  0.000000  0.000292  0.000000  0.000000  0.468417\n",
       "Internet Explorer  0.012010  0.037690  0.022300  0.013792  0.020309  0.445394\n",
       "HTTP cookie        0.027529  0.026064  0.000000  0.037584  0.024798  0.419434\n",
       "Google Search      0.000000  0.000000  0.000000  0.000000  0.000000  0.627722"
      ]
     },
     "execution_count": 10,
     "metadata": {},
     "output_type": "execute_result"
    }
   ],
   "source": [
    "df.head()"
   ]
  },
  {
   "cell_type": "markdown",
   "id": "43f5b861",
   "metadata": {},
   "source": [
    "# NMF learns topics of documents\n",
    "\n",
    "In the video, you learned when NMF is applied to documents, the components correspond to topics of documents, and the NMF features reconstruct the documents from the topics. Verify this for yourself for the NMF model that you built earlier using the Wikipedia articles. Previously, you saw that the 3rd NMF feature value was high for the articles about actors Anne Hathaway and Denzel Washington. In this exercise, identify the topic of the corresponding NMF component.\n",
    "\n",
    "The NMF model you built earlier is available as model, while words is a list of the words that label the columns of the word-frequency array.\n",
    "\n",
    "After you are done, take a moment to recognise the topic that the articles about Anne Hathaway and Denzel Washington have in common!\n",
    "\n",
    "**Instructions**\n",
    "\n",
    "- Import pandas as pd.\n",
    "- Create a DataFrame components_df from model.components_, setting columns=words so that columns are labeled by the words.\n",
    "- Print components_df.shape to check the dimensions of the DataFrame.\n",
    "- Use the .iloc[] accessor on the DataFrame components_df to select row 3. Assign the result to component.\n",
    "- Call the .nlargest() method of component, and print the result. This gives the five words with the highest values for that component.\n"
   ]
  },
  {
   "cell_type": "code",
   "execution_count": 11,
   "id": "dd36b994",
   "metadata": {},
   "outputs": [],
   "source": [
    "f = open(\"../datasets/wikipedia-vocabulary-utf8.txt\",'r',encoding='utf-8')\n",
    "words = f.read().split('\\n')"
   ]
  },
  {
   "cell_type": "code",
   "execution_count": 12,
   "id": "1fecee8a",
   "metadata": {},
   "outputs": [
    {
     "name": "stderr",
     "output_type": "stream",
     "text": [
      "/home/ahmed/anaconda3/lib/python3.8/site-packages/sklearn/decomposition/_nmf.py:312: FutureWarning: The 'init' value, when 'init=None' and n_components is less than n_samples and n_features, will be changed from 'nndsvd' to 'nndsvda' in 1.1 (renaming of 0.26).\n",
      "  warnings.warn((\"The 'init' value, when 'init=None' and \"\n"
     ]
    }
   ],
   "source": [
    "model = NMF(n_components=6)\n",
    "\n",
    "# Fit the model to articles\n",
    "nmf_features = model.fit(articles)\n",
    "\n",
    "# Transform the articles: nmf_features\n",
    "nmf_features = model.transform(articles)"
   ]
  },
  {
   "cell_type": "code",
   "execution_count": 14,
   "id": "8e6ab1ab",
   "metadata": {},
   "outputs": [
    {
     "name": "stdout",
     "output_type": "stream",
     "text": [
      "(6, 18296)\n",
      "16441    0.636512\n",
      "3564     0.447841\n",
      "11687    0.349460\n",
      "1368     0.281015\n",
      "16632    0.262002\n",
      "Name: 3, dtype: float64\n"
     ]
    }
   ],
   "source": [
    "# Create a DataFrame: components_df\n",
    "components_df = pd.DataFrame(model.components_)\n",
    "\n",
    "# Print the shape of the DataFrame\n",
    "print(components_df.shape)\n",
    "\n",
    "# Select row 3: component\n",
    "component = components_df.iloc[3,:]\n",
    "\n",
    "# Print result of nlargest\n",
    "print(component.nlargest())"
   ]
  },
  {
   "cell_type": "markdown",
   "id": "38a45914",
   "metadata": {},
   "source": [
    "# Explore the LED digits dataset\n",
    "\n",
    "In the following exercises, you'll use NMF to decompose grayscale images into their commonly occurring patterns. Firstly, explore the image dataset and see how it is encoded as an array. You are given 100 images as a 2D array samples, where each row represents a single 13x8 image. The images in your dataset are pictures of a LED digital display.\n",
    "\n",
    "**Instructions**\n",
    "\n",
    "\n",
    "- Import matplotlib.pyplot as plt.\n",
    "- Select row 0 of samples and assign the result to digit. For example, to select column 2 of an array a, you could use a[:,2]. Remember that since samples is a NumPy array, you can't use the .loc[] or iloc[] accessors to select specific rows or columns.\n",
    "- Print digit. This has been done for you. Notice that it is a 1D array of 0s and 1s.\n",
    "- Use the .reshape() method of digit to get a 2D array with shape (13, 8). Assign the result to bitmap.\n",
    "- Print bitmap, and notice that the 1s show the digit 7!\n",
    "- Use the plt.imshow() function to display bitmap as an image.\n",
    "\n"
   ]
  },
  {
   "cell_type": "code",
   "execution_count": 16,
   "id": "8f0547f0",
   "metadata": {},
   "outputs": [],
   "source": [
    "samples = pd.read_csv(\"../datasets/lcd-digits.csv\",header=None).values"
   ]
  },
  {
   "cell_type": "code",
   "execution_count": 17,
   "id": "7c1f0e9a",
   "metadata": {},
   "outputs": [
    {
     "name": "stdout",
     "output_type": "stream",
     "text": [
      "[0. 0. 0. 0. 0. 0. 0. 0. 0. 0. 1. 1. 1. 1. 0. 0. 0. 0. 0. 0. 0. 0. 1. 0.\n",
      " 0. 0. 0. 0. 0. 0. 1. 0. 0. 0. 0. 0. 0. 0. 1. 0. 0. 0. 0. 0. 0. 0. 1. 0.\n",
      " 0. 0. 0. 0. 0. 0. 0. 0. 0. 0. 0. 0. 0. 0. 1. 0. 0. 0. 0. 0. 0. 0. 1. 0.\n",
      " 0. 0. 0. 0. 0. 0. 1. 0. 0. 0. 0. 0. 0. 0. 1. 0. 0. 0. 0. 0. 0. 0. 0. 0.\n",
      " 0. 0. 0. 0. 0. 0. 0. 0.]\n",
      "[[0. 0. 0. 0. 0. 0. 0. 0.]\n",
      " [0. 0. 1. 1. 1. 1. 0. 0.]\n",
      " [0. 0. 0. 0. 0. 0. 1. 0.]\n",
      " [0. 0. 0. 0. 0. 0. 1. 0.]\n",
      " [0. 0. 0. 0. 0. 0. 1. 0.]\n",
      " [0. 0. 0. 0. 0. 0. 1. 0.]\n",
      " [0. 0. 0. 0. 0. 0. 0. 0.]\n",
      " [0. 0. 0. 0. 0. 0. 1. 0.]\n",
      " [0. 0. 0. 0. 0. 0. 1. 0.]\n",
      " [0. 0. 0. 0. 0. 0. 1. 0.]\n",
      " [0. 0. 0. 0. 0. 0. 1. 0.]\n",
      " [0. 0. 0. 0. 0. 0. 0. 0.]\n",
      " [0. 0. 0. 0. 0. 0. 0. 0.]]\n"
     ]
    },
    {
     "data": {
      "image/png": "[encoded data removed]",
      "text/plain": [
       "<Figure size 432x288 with 2 Axes>"
      ]
     },
     "metadata": {
      "needs_background": "light"
     },
     "output_type": "display_data"
    }
   ],
   "source": [
    "# Import pyplot\n",
    "from matplotlib import pyplot as plt\n",
    "\n",
    "# Select the 0th row: digit\n",
    "digit = samples[0,:]\n",
    "\n",
    "# Print digit\n",
    "print(digit)\n",
    "\n",
    "# Reshape digit to a 13x8 array: bitmap\n",
    "bitmap = digit.reshape((13, 8))\n",
    "\n",
    "# Print bitmap\n",
    "print(bitmap)\n",
    "\n",
    "# Use plt.imshow to display bitmap\n",
    "plt.imshow(bitmap, cmap='gray', interpolation='nearest')\n",
    "plt.colorbar()\n",
    "plt.show()\n"
   ]
  },
  {
   "cell_type": "markdown",
   "id": "6dd9a9b5",
   "metadata": {},
   "source": [
    "# NMF learns the parts of images\n",
    "\n",
    "Now use what you've learned about NMF to decompose the digits dataset. You are again given the digit images as a 2D array samples. This time, you are also provided with a function show_as_image() that displays the image encoded by any 1D array:\n",
    "\n",
    "def show_as_image(sample):\n",
    "    bitmap = sample.reshape((13, 8))\n",
    "    plt.figure()\n",
    "    plt.imshow(bitmap, cmap='gray', interpolation='nearest')\n",
    "    plt.colorbar()\n",
    "    plt.show()\n",
    "\n",
    "After you are done, take a moment to look through the plots and notice how NMF has expressed the digit as a sum of the components!\n",
    "\n",
    "**Instructions**\n",
    "\n",
    "    Import NMF from sklearn.decomposition.\n",
    "    Create an NMF instance called model with 7 components. (7 is the number of cells in an LED display).\n",
    "    Apply the .fit_transform() method of model to samples. Assign the result to features.\n",
    "    To each component of the model (accessed via model.components_), apply the show_as_image() function to that component inside the loop.\n",
    "    Assign the row 0 of features to digit_features.\n",
    "    Print digit_features.\n",
    "\n",
    " "
   ]
  },
  {
   "cell_type": "code",
   "execution_count": 18,
   "id": "5e66c3f9",
   "metadata": {},
   "outputs": [],
   "source": [
    "def show_as_image(sample):\n",
    "    bitmap = sample.reshape((13, 8))\n",
    "    plt.figure()\n",
    "    plt.imshow(bitmap, cmap='gray', interpolation='nearest')\n",
    "    plt.colorbar()\n",
    "    plt.show()"
   ]
  },
  {
   "cell_type": "code",
   "execution_count": 20,
   "id": "ad160c29",
   "metadata": {},
   "outputs": [
    {
     "name": "stderr",
     "output_type": "stream",
     "text": [
      "/home/ahmed/anaconda3/lib/python3.8/site-packages/sklearn/decomposition/_nmf.py:312: FutureWarning: The 'init' value, when 'init=None' and n_components is less than n_samples and n_features, will be changed from 'nndsvd' to 'nndsvda' in 1.1 (renaming of 0.26).\n",
      "  warnings.warn((\"The 'init' value, when 'init=None' and \"\n"
     ]
    },
    {
     "data": {
      "image/png": "[encoded data removed]",
      "text/plain": [
       "<Figure size 432x288 with 2 Axes>"
      ]
     },
     "metadata": {
      "needs_background": "light"
     },
     "output_type": "display_data"
    },
    {
     "data": {
      "image/png": "[encoded data removed]",
      "text/plain": [
       "<Figure size 432x288 with 2 Axes>"
      ]
     },
     "metadata": {
      "needs_background": "light"
     },
     "output_type": "display_data"
    },
    {
     "data": {
      "image/png": "[encoded data removed]",
      "text/plain": [
       "<Figure size 432x288 with 2 Axes>"
      ]
     },
     "metadata": {
      "needs_background": "light"
     },
     "output_type": "display_data"
    },
    {
     "data": {
      "image/png": "[encoded data removed]",
      "text/plain": [
       "<Figure size 432x288 with 2 Axes>"
      ]
     },
     "metadata": {
      "needs_background": "light"
     },
     "output_type": "display_data"
    },
    {
     "data": {
      "image/png": "[encoded data removed]",
      "text/plain": [
       "<Figure size 432x288 with 2 Axes>"
      ]
     },
     "metadata": {
      "needs_background": "light"
     },
     "output_type": "display_data"
    },
    {
     "data": {
      "image/png": "[encoded data removed]",
      "text/plain": [
       "<Figure size 432x288 with 2 Axes>"
      ]
     },
     "metadata": {
      "needs_background": "light"
     },
     "output_type": "display_data"
    },
    {
     "data": {
      "image/png": "[encoded data removed]",
      "text/plain": [
       "<Figure size 432x288 with 2 Axes>"
      ]
     },
     "metadata": {
      "needs_background": "light"
     },
     "output_type": "display_data"
    },
    {
     "name": "stdout",
     "output_type": "stream",
     "text": [
      "[4.76823559e-01 0.00000000e+00 0.00000000e+00 5.90605054e-01\n",
      " 4.81559442e-01 0.00000000e+00 7.37557191e-16]\n"
     ]
    }
   ],
   "source": [
    "# Import NMF\n",
    "from sklearn.decomposition import NMF\n",
    "\n",
    "# Create an NMF model: model\n",
    "model = NMF(n_components=7)\n",
    "\n",
    "# Apply fit_transform to samples: features\n",
    "features = model.fit_transform(samples)\n",
    "\n",
    "# Call show_as_image on each component\n",
    "for component in model.components_:\n",
    "    show_as_image(component)\n",
    "\n",
    "# Assign the 0th row of features: digit_features\n",
    "digit_features = features[0,:]\n",
    "\n",
    "# Print digit_features\n",
    "print(digit_features)"
   ]
  },
  {
   "cell_type": "markdown",
   "id": "c1b6e978",
   "metadata": {},
   "source": [
    "# PCA doesn't learn parts\n",
    "\n",
    "Unlike NMF, PCA doesn't learn the parts of things. Its components do not correspond to topics (in the case of documents) or to parts of images, when trained on images. Verify this for yourself by inspecting the components of a PCA model fit to the dataset of LED digit images from the previous exercise. The images are available as a 2D array samples. Also available is a modified version of the show_as_image() function which colors a pixel red if the value is negative.\n",
    "\n",
    "After submitting the answer, notice that the components of PCA do not represent meaningful parts of images of LED digits!\n",
    "\n",
    "**Instructions**\n",
    "\n",
    "- Import PCA from sklearn.decomposition.\n",
    "- Create a PCA instance called model with 7 components.\n",
    "- Apply the .fit_transform() method of model to samples. Assign the result to features.\n",
    "- To each component of the model (accessed via model.components_), apply the show_as_image() function to that component inside the loop.\n",
    "\n"
   ]
  },
  {
   "cell_type": "code",
   "execution_count": 21,
   "id": "23b62e60",
   "metadata": {},
   "outputs": [
    {
     "data": {
      "image/png": "[encoded data removed]",
      "text/plain": [
       "<Figure size 432x288 with 2 Axes>"
      ]
     },
     "metadata": {
      "needs_background": "light"
     },
     "output_type": "display_data"
    },
    {
     "data": {
      "image/png": "[encoded data removed]",
      "text/plain": [
       "<Figure size 432x288 with 2 Axes>"
      ]
     },
     "metadata": {
      "needs_background": "light"
     },
     "output_type": "display_data"
    },
    {
     "data": {
      "image/png": "[encoded data removed]",
      "text/plain": [
       "<Figure size 432x288 with 2 Axes>"
      ]
     },
     "metadata": {
      "needs_background": "light"
     },
     "output_type": "display_data"
    },
    {
     "data": {
      "image/png": "[encoded data removed]",
      "text/plain": [
       "<Figure size 432x288 with 2 Axes>"
      ]
     },
     "metadata": {
      "needs_background": "light"
     },
     "output_type": "display_data"
    },
    {
     "data": {
      "image/png": "[encoded data removed]",
      "text/plain": [
       "<Figure size 432x288 with 2 Axes>"
      ]
     },
     "metadata": {
      "needs_background": "light"
     },
     "output_type": "display_data"
    },
    {
     "data": {
      "image/png": "[encoded data removed]",
      "text/plain": [
       "<Figure size 432x288 with 2 Axes>"
      ]
     },
     "metadata": {
      "needs_background": "light"
     },
     "output_type": "display_data"
    },
    {
     "data": {
      "image/png": "[encoded data removed]",
      "text/plain": [
       "<Figure size 432x288 with 2 Axes>"
      ]
     },
     "metadata": {
      "needs_background": "light"
     },
     "output_type": "display_data"
    }
   ],
   "source": [
    "# Import PCA\n",
    "from sklearn.decomposition import PCA\n",
    "\n",
    "# Create a PCA instance: model\n",
    "model = PCA(n_components=7)\n",
    "\n",
    "# Apply fit_transform to samples: features\n",
    "features = model.fit_transform(samples)\n",
    "\n",
    "# Call show_as_image on each component\n",
    "for component in model.components_:\n",
    "    show_as_image(component)"
   ]
  },
  {
   "cell_type": "markdown",
   "id": "d19db780",
   "metadata": {},
   "source": [
    "# Which articles are similar to 'Cristiano Ronaldo'?\n",
    "\n",
    "In the video, you learned how to use NMF features and the cosine similarity to find similar articles. Apply this to your NMF model for popular Wikipedia articles, by finding the articles most similar to the article about the footballer Cristiano Ronaldo. The NMF features you obtained earlier are available as nmf_features, while titles is a list of the article titles.\n",
    "\n",
    "**Instructions**\n",
    "\n",
    "- Import normalize from sklearn.preprocessing.\n",
    "- Apply the normalize() function to nmf_features. Store the result as norm_features.\n",
    "- Create a DataFrame df from norm_features, using titles as an index.\n",
    "- Use the .loc[] accessor of df to select the row of 'Cristiano Ronaldo'. Assign the result to article.\n",
    "- Apply the .dot() method of df to article to calculate the cosine similarity of every row with article.\n",
    "- Print the result of the .nlargest() method of similarities to display the most similiar articles. This has been done for you, so hit 'Submit Answer' to see the result!\n",
    "\n"
   ]
  },
  {
   "cell_type": "code",
   "execution_count": 22,
   "id": "ab1bbcd9",
   "metadata": {},
   "outputs": [
    {
     "name": "stderr",
     "output_type": "stream",
     "text": [
      "/home/ahmed/anaconda3/lib/python3.8/site-packages/sklearn/decomposition/_nmf.py:312: FutureWarning: The 'init' value, when 'init=None' and n_components is less than n_samples and n_features, will be changed from 'nndsvd' to 'nndsvda' in 1.1 (renaming of 0.26).\n",
      "  warnings.warn((\"The 'init' value, when 'init=None' and \"\n"
     ]
    }
   ],
   "source": [
    "from sklearn.decomposition import NMF\n",
    "nmf = NMF(n_components=6)\n",
    "nmf_features = nmf.fit_transform(articles)"
   ]
  },
  {
   "cell_type": "code",
   "execution_count": 23,
   "id": "ea3653a0",
   "metadata": {},
   "outputs": [
    {
     "name": "stdout",
     "output_type": "stream",
     "text": [
      "[0.01476344 0.01540548 0.07050809 0.02261315 0.01476344 0.15311397\n",
      " 0.04172009 0.01476344 0.10222906 0.17909429 0.05463576 0.0454606\n",
      " 0.24277573 0.48954177 0.07475672 0.06695058 0.06586182 0.06041723\n",
      " 0.04600945 0.04520842 0.99756616 0.88436929 0.82657735 1.\n",
      " 0.99761112 0.58675347 0.99761462 0.99797665 0.99756616 0.99767311\n",
      " 0.10044885 0.00531122 0.15180711 0.00531122 0.00531122 0.01389432\n",
      " 0.02677449 0.21470075 0.00531122 0.00531122 0.04983175 0.05039707\n",
      " 0.09067352 0.04983175 0.08041548 0.04983175 0.04985213 0.05407894\n",
      " 0.15455321 0.04984395 0.0094119  0.0094119  0.04234233 0.42060388\n",
      " 0.01299833 0.02012348 0.01717193 0.0104556  0.04984965 0.10918242]\n"
     ]
    }
   ],
   "source": [
    "# Calculating the cosine similarities\n",
    "\n",
    "from sklearn.preprocessing import normalize\n",
    "norm_features = normalize(nmf_features)\n",
    "current_article = norm_features[23,:] # if has index 23\n",
    "similarities = norm_features.dot(current_article)\n",
    "print(similarities)"
   ]
  },
  {
   "cell_type": "code",
   "execution_count": 24,
   "id": "c2985d16",
   "metadata": {},
   "outputs": [
    {
     "name": "stdout",
     "output_type": "stream",
     "text": [
      "Titles\n",
      "Catherine Zeta-Jones    1.000000\n",
      "Dakota Fanning          0.997977\n",
      "Jennifer Aniston        0.997673\n",
      "Mila Kunis              0.997615\n",
      "Jessica Biel            0.997611\n",
      "dtype: float64\n"
     ]
    }
   ],
   "source": [
    "# DataFrames and labels\n",
    "\n",
    "import pandas as pd\n",
    "norm_features = normalize(nmf_features)\n",
    "df = pd.DataFrame(norm_features, index=titles)\n",
    "current_article = df.loc['Catherine Zeta-Jones']\n",
    "similarities = df.dot(current_article)\n",
    "print(similarities.nlargest())\n"
   ]
  },
  {
   "cell_type": "code",
   "execution_count": 25,
   "id": "aff35a4b",
   "metadata": {},
   "outputs": [
    {
     "name": "stdout",
     "output_type": "stream",
     "text": [
      "Titles\n",
      "Cristiano Ronaldo     1.0\n",
      "Radamel Falcao        1.0\n",
      "Zlatan Ibrahimović    1.0\n",
      "Neymar                1.0\n",
      "Franck Ribéry         1.0\n",
      "dtype: float64\n"
     ]
    }
   ],
   "source": [
    "# Which articles are similar to 'Cristiano Ronaldo'?\n",
    "\n",
    "# Perform the necessary imports\n",
    "from sklearn.preprocessing import normalize\n",
    "\n",
    "# Normalize the NMF features: norm_features\n",
    "norm_features = normalize(nmf_features)\n",
    "\n",
    "# Create a DataFrame: df\n",
    "df = pd.DataFrame(norm_features,index=titles)\n",
    "\n",
    "# Select the row corresponding to 'Cristiano Ronaldo': article\n",
    "article = df.loc['Cristiano Ronaldo']\n",
    "\n",
    "# Compute the dot products: similarities\n",
    "similarities = df.dot(article)\n",
    "\n",
    "# Display those with the largest cosine similarity\n",
    "print(similarities.nlargest())"
   ]
  },
  {
   "cell_type": "markdown",
   "id": "07105a7e",
   "metadata": {},
   "source": [
    "# Recommend musical artists part I\n",
    "\n",
    "In this exercise and the next, you'll use what you've learned about NMF to recommend popular music artists! You are given a sparse array artists whose rows correspond to artists and whose columns correspond to users. The entries give the number of times each artist was listened to by each user.\n",
    "\n",
    "In this exercise, build a pipeline and transform the array into normalized NMF features. The first step in the pipeline, MaxAbsScaler, transforms the data so that all users have the same influence on the model, regardless of how many different artists they've listened to. In the next exercise, you'll use the resulting normalized NMF features for recommendation!\n",
    "\n",
    "**Instructions**\n",
    "\n",
    "- Import:\n",
    "        NMF from sklearn.decomposition.\n",
    "        Normalizer and MaxAbsScaler from sklearn.preprocessing.\n",
    "        make_pipeline from sklearn.pipeline.\n",
    "- Create an instance of MaxAbsScaler called scaler.\n",
    "- Create an NMF instance with 20 components called nmf.\n",
    "- Create an instance of Normalizer called normalizer.\n",
    "- Create a pipeline called pipeline that chains together scaler, nmf, and normalizer.\n",
    "- Apply the .fit_transform() method of pipeline to artists. Assign the result to norm_features.\n",
    "\n",
    " "
   ]
  },
  {
   "cell_type": "code",
   "execution_count": 28,
   "id": "f3d44209",
   "metadata": {},
   "outputs": [],
   "source": [
    "from scipy.sparse import csr_matrix\n",
    "\n",
    "df = pd.read_csv(\"../datasets/Musical artists/scrobbler-small-sample.csv\")\n",
    "df = df.pivot_table(values='playcount',index='artist_offset',columns='user_offset',aggfunc=sum,fill_value=0.)\n",
    "df = df.astype(float)\n",
    "artists = csr_matrix(df)\n",
    "artist_names = list(pd.read_csv(\"../datasets/Musical artists/artists.csv\",header=None)[0])"
   ]
  },
  {
   "cell_type": "code",
   "execution_count": 29,
   "id": "d9339746",
   "metadata": {},
   "outputs": [
    {
     "name": "stderr",
     "output_type": "stream",
     "text": [
      "/home/ahmed/anaconda3/lib/python3.8/site-packages/sklearn/decomposition/_nmf.py:312: FutureWarning: The 'init' value, when 'init=None' and n_components is less than n_samples and n_features, will be changed from 'nndsvd' to 'nndsvda' in 1.1 (renaming of 0.26).\n",
      "  warnings.warn((\"The 'init' value, when 'init=None' and \"\n"
     ]
    }
   ],
   "source": [
    "# Perform the necessary imports\n",
    "from sklearn.decomposition import NMF\n",
    "from sklearn.preprocessing import Normalizer, MaxAbsScaler\n",
    "from sklearn.pipeline import make_pipeline\n",
    "\n",
    "# Create a MaxAbsScaler: scaler\n",
    "scaler = MaxAbsScaler()\n",
    "\n",
    "# Create an NMF model: nmf\n",
    "nmf = NMF(n_components=20)\n",
    "\n",
    "# Create a Normalizer: normalizer\n",
    "normalizer = Normalizer()\n",
    "\n",
    "# Create a pipeline: pipeline\n",
    "pipeline = make_pipeline(scaler, nmf, normalizer)\n",
    "\n",
    "# Apply fit_transform to artists: norm_features\n",
    "norm_features = pipeline.fit_transform(artists)\n"
   ]
  },
  {
   "cell_type": "markdown",
   "id": "5bf259af",
   "metadata": {},
   "source": [
    "# Recommend musical artists part II\n",
    "\n",
    "Suppose you were a big fan of Bruce Springsteen - which other musicial artists might you like? Use your NMF features from the previous exercise and the cosine similarity to find similar musical artists. A solution to the previous exercise has been run, so norm_features is an array containing the normalized NMF features as rows. The names of the musical artists are available as the list artist_names.\n",
    "\n",
    "**Instructions**\n",
    "\n",
    "- Import pandas as pd.\n",
    "- Create a DataFrame df from norm_features, using artist_names as an index.\n",
    "- Use the .loc[] accessor of df to select the row of 'Bruce Springsteen'. Assign the result to artist.\n",
    "- Apply the .dot() method of df to artist to calculate the dot product of every row with artist. Save the result as similarities.\n",
    "- Print the result of the .nlargest() method of similarities to display the artists most similar to 'Bruce Springsteen'.\n",
    " "
   ]
  },
  {
   "cell_type": "code",
   "execution_count": 31,
   "id": "6cf792a6",
   "metadata": {},
   "outputs": [
    {
     "name": "stdout",
     "output_type": "stream",
     "text": [
      "Bruce Springsteen    1.000000\n",
      "Neil Young           0.956829\n",
      "Leonard Cohen        0.913149\n",
      "Van Morrison         0.877046\n",
      "Bob Dylan            0.858512\n",
      "dtype: float64\n"
     ]
    }
   ],
   "source": [
    "# Import pandas\n",
    "import pandas as pd\n",
    "\n",
    "# Create a DataFrame: df\n",
    "df = pd.DataFrame(norm_features, index=artist_names)\n",
    "\n",
    "# Select row of 'Bruce Springsteen': artist\n",
    "artist = df.loc['Bruce Springsteen']\n",
    "\n",
    "# Compute cosine similarities: similarities\n",
    "similarities = df.dot(artist)\n",
    "\n",
    "# Display those with highest cosine similarity\n",
    "print(similarities.nlargest())\n"
   ]
  },
  {
   "cell_type": "code",
   "execution_count": null,
   "id": "3ea6d5d8",
   "metadata": {},
   "outputs": [],
   "source": []
  },
  {
   "cell_type": "code",
   "execution_count": null,
   "id": "f688106d",
   "metadata": {},
   "outputs": [],
   "source": []
  },
  {
   "cell_type": "code",
   "execution_count": null,
   "id": "bcc7cd80",
   "metadata": {},
   "outputs": [],
   "source": []
  }
 ],
 "metadata": {
  "kernelspec": {
   "display_name": "Python 3",
   "language": "python",
   "name": "python3"
  },
  "language_info": {
   "codemirror_mode": {
    "name": "ipython",
    "version": 3
   },
   "file_extension": ".py",
   "mimetype": "text/x-python",
   "name": "python",
   "nbconvert_exporter": "python",
   "pygments_lexer": "ipython3",
   "version": "3.8.8"
  }
 },
 "nbformat": 4,
 "nbformat_minor": 5
}
