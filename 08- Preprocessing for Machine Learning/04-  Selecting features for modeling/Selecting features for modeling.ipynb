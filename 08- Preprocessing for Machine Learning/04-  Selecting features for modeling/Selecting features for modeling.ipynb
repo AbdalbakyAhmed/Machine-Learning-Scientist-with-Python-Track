{
 "cells": [
  {
   "cell_type": "code",
   "execution_count": 1,
   "id": "24ea9dd7",
   "metadata": {},
   "outputs": [],
   "source": [
    "import pandas as pd\n",
    "import numpy as np"
   ]
  },
  {
   "cell_type": "code",
   "execution_count": 2,
   "id": "3ae44e59",
   "metadata": {},
   "outputs": [],
   "source": [
    "hiking = pd.read_json(\"../hiking.json\")\n",
    "# hiking.head()"
   ]
  },
  {
   "cell_type": "code",
   "execution_count": 3,
   "id": "0993a19d",
   "metadata": {},
   "outputs": [],
   "source": [
    "volunteer = pd.read_csv(\"../volunteer_opportunities.csv\")\n",
    "# volunteer.head()"
   ]
  },
  {
   "cell_type": "code",
   "execution_count": 4,
   "id": "bb3bf4de",
   "metadata": {},
   "outputs": [],
   "source": [
    "wine = pd.read_csv(\"../wine_types.csv\")"
   ]
  },
  {
   "cell_type": "code",
   "execution_count": 5,
   "id": "7a9b74d5",
   "metadata": {},
   "outputs": [],
   "source": [
    "sel_cols = ['vol_requests', 'title', 'hits', 'category_desc', 'locality', 'region',\n",
    "       'postalcode', 'created_date', 'vol_requests_lognorm', 'created_month',\n",
    "       'Education', 'Emergency Preparedness', 'Environment', 'Health',\n",
    "       'Helping Neighbors in Need', 'Strengthening Communities']\n",
    "# new_volunteer_df = volunteer[sel_cols]"
   ]
  },
  {
   "cell_type": "markdown",
   "id": "a84c2b86",
   "metadata": {},
   "source": [
    "## Selecting relevant features\n",
    "\n",
    "Now let's identify the redundant columns in the volunteer dataset and perform feature selection on the dataset to return a DataFrame of the relevant features.\n",
    "\n",
    "For example, if you explore the volunteer dataset in the console, you'll see three features which are related to location: locality, region, and postalcode. They contain repeated information, so it would make sense to keep only one of the features.\n",
    "\n",
    "There are also features that have gone through the feature engineering process: columns like Education and Emergency Preparedness are a product of encoding the categorical variable category_desc, so category_desc itself is redundant now.\n",
    "\n",
    "Take a moment to examine the features of volunteer in the console, and try to identify the redundant features.\n",
    "\n",
    "* Instructions\n",
    "\n",
    "    * Create a list of redundant column names and store it in the to_drop variable:\n",
    "        * Out of all the location-related features, keep only postcode.\n",
    "        * Features that have gone through the feature engineering process are redundant as well.\n",
    "    * Drop the columns from the dataset using .drop().\n",
    "    * Print out the .head() of the DataFrame to see the selected columns.\n"
   ]
  },
  {
   "cell_type": "code",
   "execution_count": 6,
   "id": "8b94e93f",
   "metadata": {},
   "outputs": [
    {
     "name": "stdout",
     "output_type": "stream",
     "text": [
      "   opportunity_id  content_id  event_time  \\\n",
      "0            4996       37004           0   \n",
      "1            5008       37036           0   \n",
      "2            5016       37143           0   \n",
      "3            5022       37237           0   \n",
      "4            5055       37425           0   \n",
      "\n",
      "                                               title  hits  \\\n",
      "0  Volunteers Needed For Rise Up & Stay Put! Home...   737   \n",
      "1                                       Web designer    22   \n",
      "2      Urban Adventures - Ice Skating at Lasker Rink    62   \n",
      "3  Fight global hunger and support women farmers ...    14   \n",
      "4                                      Stop 'N' Swap    31   \n",
      "\n",
      "                                             summary is_priority  category_id  \\\n",
      "0  Building on successful events last summer and ...         NaN          NaN   \n",
      "1             Build a website for an Afghan business         NaN          1.0   \n",
      "2  Please join us and the students from Mott Hall...         NaN          1.0   \n",
      "3  The Oxfam Action Corps is a group of dedicated...         NaN          1.0   \n",
      "4  Stop 'N' Swap reduces NYC's waste by finding n...         NaN          4.0   \n",
      "\n",
      "   amsl  amsl_unit  ...     end_date_date    status  Latitude  Longitude  \\\n",
      "0   NaN        NaN  ...      July 30 2011  approved       NaN        NaN   \n",
      "1   NaN        NaN  ...  February 01 2011  approved       NaN        NaN   \n",
      "2   NaN        NaN  ...   January 29 2011  approved       NaN        NaN   \n",
      "3   NaN        NaN  ...     March 31 2012  approved       NaN        NaN   \n",
      "4   NaN        NaN  ...  February 05 2011  approved       NaN        NaN   \n",
      "\n",
      "   Community Board Community Council  Census Tract  BIN BBL NTA  \n",
      "0              NaN                NaN          NaN  NaN NaN NaN  \n",
      "1              NaN                NaN          NaN  NaN NaN NaN  \n",
      "2              NaN                NaN          NaN  NaN NaN NaN  \n",
      "3              NaN                NaN          NaN  NaN NaN NaN  \n",
      "4              NaN                NaN          NaN  NaN NaN NaN  \n",
      "\n",
      "[5 rows x 30 columns]\n"
     ]
    }
   ],
   "source": [
    "# Create a list of redundant column names to drop\n",
    "to_drop = [\"category_desc\", \"created_date\", \"locality\", \"region\", \"vol_requests\"]\n",
    "\n",
    "# Drop those columns from the dataset\n",
    "volunteer_subset = volunteer.drop(to_drop, axis=1)\n",
    "\n",
    "# Print out the head of the new dataset\n",
    "print(volunteer_subset.head())"
   ]
  },
  {
   "cell_type": "markdown",
   "id": "edc147e3",
   "metadata": {},
   "source": [
    "## Checking for correlated features\n",
    "\n",
    "Let's take a look at the wine dataset again, which is made up of continuous, numerical features. Run Pearson's correlation coefficient on the dataset to determine which columns are good candidates for eliminating. Then, remove those columns from the DataFrame.\n",
    "* Instructions\n",
    "\n",
    "    * Print out the column correlations of the wine dataset using corr().\n",
    "    * Take a minute to look at the correlations. Identify a column where the correlation value is greater than 0.75 at least twice and store it in the to_drop variable.\n",
    "    * Drop that column from the DataFrame using drop().\n"
   ]
  },
  {
   "cell_type": "code",
   "execution_count": 7,
   "id": "6a488a2d",
   "metadata": {},
   "outputs": [
    {
     "name": "stderr",
     "output_type": "stream",
     "text": [
      "/home/ahmed/.local/bin/.virtualenvs/myEnv/lib/python3.8/site-packages/pandas/util/_decorators.py:311: SettingWithCopyWarning: \n",
      "A value is trying to be set on a copy of a slice from a DataFrame\n",
      "\n",
      "See the caveats in the documentation: https://pandas.pydata.org/pandas-docs/stable/user_guide/indexing.html#returning-a-view-versus-a-copy\n",
      "  return func(*args, **kwargs)\n"
     ]
    }
   ],
   "source": [
    "new_wine_df = wine[['Flavanoids', 'Total phenols', 'Malic acid',\n",
    "       'OD280/OD315 of diluted wines', 'Hue']]\n",
    "new_wine_df.dropna(inplace=True)"
   ]
  },
  {
   "cell_type": "code",
   "execution_count": 8,
   "id": "95542c73",
   "metadata": {},
   "outputs": [
    {
     "name": "stdout",
     "output_type": "stream",
     "text": [
      "                              Flavanoids  Total phenols  Malic acid  \\\n",
      "Flavanoids                      1.000000       0.864564   -0.411007   \n",
      "Total phenols                   0.864564       1.000000   -0.335167   \n",
      "Malic acid                     -0.411007      -0.335167    1.000000   \n",
      "OD280/OD315 of diluted wines    0.787194       0.699949   -0.368710   \n",
      "Hue                             0.543479       0.433681   -0.561296   \n",
      "\n",
      "                              OD280/OD315 of diluted wines       Hue  \n",
      "Flavanoids                                        0.787194  0.543479  \n",
      "Total phenols                                     0.699949  0.433681  \n",
      "Malic acid                                       -0.368710 -0.561296  \n",
      "OD280/OD315 of diluted wines                      1.000000  0.565468  \n",
      "Hue                                               0.565468  1.000000  \n"
     ]
    }
   ],
   "source": [
    "# Print out the column correlations of the wine dataset\n",
    "print(new_wine_df.corr())\n",
    "\n",
    "# Take a minute to find the column where the correlation value is greater than 0.75 at least twice\n",
    "to_drop = \"Flavanoids\"\n",
    "\n",
    "# Drop that column from the DataFrame\n",
    "new_wine_df = new_wine_df.drop(to_drop, axis=1)"
   ]
  },
  {
   "cell_type": "markdown",
   "id": "8a864764",
   "metadata": {},
   "source": [
    "## Exploring text vectors, part 1\n",
    "\n",
    "Let's expand on the text vector exploration method we just learned about, using the volunteer dataset's title tf/idf vectors. In this first part of text vector exploration, we're going to add to that function we learned about in the slides. We'll return a list of numbers with the function. In the next exercise, we'll write another function to collect the top words across all documents, extract them, and then use that list to filter down our text_tfidf vector.\n",
    "* Instructions\n",
    "\n",
    "    * Add parameters called original_vocab, for the tfidf_vec.vocabulary_, and top_n.\n",
    "    * Call pd.Series on the zipped dictionary. This will make it easier to operate on.\n",
    "    * Use the sort_values function to sort the series and slice the index up to top_n words.\n",
    "    * Call the function, setting original_vocab=tfidf_vec.vocabulary_, setting vector_index=8 to grab the 9th row, and setting top_n=3, to grab the top 3 weighted words.\n"
   ]
  },
  {
   "cell_type": "code",
   "execution_count": 9,
   "id": "768b3380",
   "metadata": {},
   "outputs": [],
   "source": [
    "from sklearn.feature_extraction.text import TfidfVectorizer\n",
    "\n",
    "temp_df = volunteer[['title', 'category_desc']]\n",
    "temp_df = temp_df.dropna(axis=0)\n",
    "\n",
    "# Take the title text\n",
    "title_text = temp_df[\"title\"]\n",
    "\n",
    "# Create the vectorizer method\n",
    "tfidf_vec = TfidfVectorizer()\n",
    "\n",
    "# Transform the text into tf-idf vectors\n",
    "text_tfidf = tfidf_vec.fit_transform(title_text)"
   ]
  },
  {
   "cell_type": "code",
   "execution_count": 10,
   "id": "115e4d68",
   "metadata": {},
   "outputs": [],
   "source": [
    "vocab = {v:k for k,v in   tfidf_vec.vocabulary_.items()}"
   ]
  },
  {
   "cell_type": "code",
   "execution_count": 11,
   "id": "5fa968de",
   "metadata": {},
   "outputs": [
    {
     "name": "stdout",
     "output_type": "stream",
     "text": [
      "[189, 942, 466]\n"
     ]
    }
   ],
   "source": [
    "# Add in the rest of the parameters\n",
    "def return_weights(vocab, original_vocab, vector, vector_index, top_n):\n",
    "    zipped = dict(zip(vector[vector_index].indices, vector[vector_index].data))\n",
    "    \n",
    "    # Let's transform that zipped dict into a series\n",
    "    zipped_series = pd.Series({vocab[i]:zipped[i] for i in vector[vector_index].indices})\n",
    "    \n",
    "    # Let's sort the series to pull out the top n weighted words\n",
    "    zipped_index = zipped_series.sort_values(ascending=False)[:top_n].index\n",
    "    return [original_vocab[i] for i in zipped_index]\n",
    "\n",
    "# Print out the weighted words\n",
    "print(return_weights(vocab, tfidf_vec.vocabulary_, text_tfidf, 8, 3))"
   ]
  },
  {
   "cell_type": "markdown",
   "id": "668775ce",
   "metadata": {},
   "source": [
    "## Exploring text vectors, part 2\n",
    "\n",
    "Using the function we wrote in the previous exercise, we're going to extract the top words from each document in the text vector, return a list of the word indices, and use that list to filter the text vector down to those top words.\n",
    "* Instructions\n",
    "\n",
    "    * Call return_weights to return the top weighted words for that document.\n",
    "    * Call set on the returned filter_list so we don't get duplicated numbers.\n",
    "    * Call words_to_filter, passing in the following parameters: vocab for the vocab parameter, tfidf_vec.vocabulary_ for the original_vocab parameter, text_tfidf for the vector parameter, and 3 to grab the top_n 3 weighted words from each document.\n",
    "    * Finally, pass that filtered_words set into a list to use as a filter for the text vector.\n"
   ]
  },
  {
   "cell_type": "code",
   "execution_count": 12,
   "id": "022a0a83",
   "metadata": {},
   "outputs": [],
   "source": [
    "def words_to_filter(vocab, original_vocab, vector, top_n):\n",
    "    filter_list = []\n",
    "    for i in range(0, vector.shape[0]):\n",
    "    \n",
    "        # Here we'll call the function from the previous exercise, and extend the list we're creating\n",
    "        filtered = return_weights(vocab, original_vocab, vector, i, top_n)\n",
    "        filter_list.extend(filtered)\n",
    "    # Return the list in a set, so we don't get duplicate word indices\n",
    "    return set(filter_list)\n",
    "\n",
    "# Call the function to get the list of word indices\n",
    "filtered_words = words_to_filter(vocab, tfidf_vec.vocabulary_, text_tfidf, 3)\n",
    "\n",
    "# By converting filtered_words back to a list, we can use it to filter the columns in the text vector\n",
    "filtered_text = text_tfidf[:, list(filtered_words)]"
   ]
  },
  {
   "cell_type": "markdown",
   "id": "1f8763b8",
   "metadata": {},
   "source": [
    "## Training Naive Bayes with feature selection\n",
    "\n",
    "Let's re-run the Naive Bayes text classification model we ran at the end of chapter 3, with our selection choices from the previous exercise, on the volunteer dataset's title and category_desc columns.\n",
    "* Instructions\n",
    "\n",
    "    * Use train_test_split on the filtered_text text vector, the y labels (which is the category_desc labels), and pass the y set to the stratify parameter, since we have an uneven class distribution.\n",
    "    * Fit the nb Naive Bayes model to train_X and train_y.\n",
    "    * Score the nb model on the test_X and test_y test sets.\n"
   ]
  },
  {
   "cell_type": "code",
   "execution_count": 13,
   "id": "d8aa5a66",
   "metadata": {},
   "outputs": [],
   "source": [
    "from sklearn.naive_bayes import GaussianNB\n",
    "from sklearn.model_selection import train_test_split\n",
    "\n",
    "nb = GaussianNB(priors=None)"
   ]
  },
  {
   "cell_type": "code",
   "execution_count": 14,
   "id": "c3b3085a",
   "metadata": {},
   "outputs": [],
   "source": [
    "y = temp_df[\"category_desc\"]"
   ]
  },
  {
   "cell_type": "code",
   "execution_count": 15,
   "id": "50378699",
   "metadata": {},
   "outputs": [
    {
     "name": "stdout",
     "output_type": "stream",
     "text": [
      "0.535483870967742\n"
     ]
    }
   ],
   "source": [
    "# Split the dataset according to the class distribution of category_desc\n",
    "train_X, test_X, train_y, test_y = train_test_split(filtered_text.toarray(), y, stratify=y)\n",
    "\n",
    "# Fit the model to the training data\n",
    "nb.fit(train_X, train_y)\n",
    "\n",
    "# Print out the model's accuracy\n",
    "print(nb.score(test_X, test_y))"
   ]
  },
  {
   "cell_type": "markdown",
   "id": "c67401f0",
   "metadata": {},
   "source": [
    "## Using PCA\n",
    "\n",
    "Let's apply PCA to the wine dataset, to see if we can get an increase in our model's accuracy.\n",
    "* Instructions\n",
    "\n",
    "    * Set up the PCA object. You'll use PCA on the wine dataset minus its label for Type, stored in the variable wine_X.\n",
    "    * Apply PCA to wine_X using pca's fit_transform method and store the transformed vector in transformed_X.\n",
    "    * Print out the explained_variance_ratio_ attribute of pca to check how much variance is explained by each component.\n"
   ]
  },
  {
   "cell_type": "code",
   "execution_count": 16,
   "id": "ddc24986",
   "metadata": {},
   "outputs": [
    {
     "name": "stdout",
     "output_type": "stream",
     "text": [
      "[9.98091230e-01 1.73591562e-03 9.49589576e-05 5.02173562e-05\n",
      " 1.23636847e-05 8.46213034e-06 2.80681456e-06 1.52308053e-06\n",
      " 1.12783044e-06 7.21415811e-07 3.78060267e-07 2.12013755e-07\n",
      " 8.25392788e-08]\n"
     ]
    }
   ],
   "source": [
    "from sklearn.decomposition import PCA\n",
    "\n",
    "# Set up PCA and the X vector for diminsionality reduction\n",
    "pca = PCA()\n",
    "wine_X = wine.drop(\"Type\", axis=1)\n",
    "\n",
    "# Apply PCA to the wine dataset\n",
    "transformed_X = pca.fit_transform(wine_X)\n",
    "\n",
    "# Look at the percentage of variance explained by the different components\n",
    "print(pca.explained_variance_ratio_)"
   ]
  },
  {
   "cell_type": "code",
   "execution_count": 17,
   "id": "ba6ea282",
   "metadata": {},
   "outputs": [],
   "source": [
    "from sklearn.neighbors import KNeighborsClassifier\n",
    "\n",
    "knn = KNeighborsClassifier(algorithm='auto', leaf_size=30, metric='minkowski',\n",
    "           metric_params=None, n_jobs=1, n_neighbors=5, p=2,\n",
    "           weights='uniform')"
   ]
  },
  {
   "cell_type": "code",
   "execution_count": 19,
   "id": "900eaa73",
   "metadata": {},
   "outputs": [
    {
     "name": "stdout",
     "output_type": "stream",
     "text": [
      "0.7333333333333333\n"
     ]
    }
   ],
   "source": [
    "# Split the transformed X and the y labels into training and test sets\n",
    "y = wine['Type']\n",
    "X_wine_train, X_wine_test, y_wine_train, y_wine_test = train_test_split(transformed_X, y)\n",
    "\n",
    "# Fit knn to the training data\n",
    "knn.fit(X_wine_train, y_wine_train)\n",
    "\n",
    "# Score knn on the test data and print it out\n",
    "print(knn.score(X_wine_test, y_wine_test))"
   ]
  },
  {
   "cell_type": "code",
   "execution_count": null,
   "id": "2147dd2f",
   "metadata": {},
   "outputs": [],
   "source": []
  },
  {
   "cell_type": "code",
   "execution_count": null,
   "id": "44ccaf3f",
   "metadata": {},
   "outputs": [],
   "source": []
  },
  {
   "cell_type": "code",
   "execution_count": null,
   "id": "220abfda",
   "metadata": {},
   "outputs": [],
   "source": []
  },
  {
   "cell_type": "code",
   "execution_count": null,
   "id": "b4453c9e",
   "metadata": {},
   "outputs": [],
   "source": []
  }
 ],
 "metadata": {
  "kernelspec": {
   "display_name": "Python 3 (ipykernel)",
   "language": "python",
   "name": "python3"
  },
  "language_info": {
   "codemirror_mode": {
    "name": "ipython",
    "version": 3
   },
   "file_extension": ".py",
   "mimetype": "text/x-python",
   "name": "python",
   "nbconvert_exporter": "python",
   "pygments_lexer": "ipython3",
   "version": "3.8.10"
  }
 },
 "nbformat": 4,
 "nbformat_minor": 5
}
