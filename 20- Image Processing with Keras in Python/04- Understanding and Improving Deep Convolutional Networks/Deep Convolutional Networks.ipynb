{
 "cells": [
  {
   "cell_type": "code",
   "execution_count": 1,
   "id": "1d6a4100",
   "metadata": {},
   "outputs": [
    {
     "name": "stderr",
     "output_type": "stream",
     "text": [
      "2021-12-22 00:00:31.440140: W tensorflow/stream_executor/platform/default/dso_loader.cc:64] Could not load dynamic library 'libcudart.so.11.0'; dlerror: libcudart.so.11.0: cannot open shared object file: No such file or directory\n",
      "2021-12-22 00:00:31.440168: I tensorflow/stream_executor/cuda/cudart_stub.cc:29] Ignore above cudart dlerror if you do not have a GPU set up on your machine.\n"
     ]
    }
   ],
   "source": [
    "import tensorflow as tf\n",
    "from tensorflow import keras\n",
    "import pandas as pd"
   ]
  },
  {
   "cell_type": "markdown",
   "id": "c98032c7",
   "metadata": {},
   "source": [
    "### Creating a deep learning network\n",
    "\n",
    "A deep convolutional neural network is a network that has more than one layer. Each layer in a deep network receives its input from the preceding layer, with the very first layer receiving its input from the images used as training or test data.\n",
    "\n",
    "Here, you will create a network that has two convolutional layers.\n",
    "* Instructions\n",
    "\n",
    "    * The first convolutional layer is the input layer of the network. This should have 15 units with kernels of 2 by 2 pixels. It should have a 'relu' activation function. It can use the variables img_rows and img_cols to define its input_shape.\n",
    "    * The second convolutional layer receives its inputs from the first layer. It should have 5 units with kernels of 2 by 2 pixels. It should also have a 'relu' activation function.\n"
   ]
  },
  {
   "cell_type": "code",
   "execution_count": null,
   "id": "dd861402",
   "metadata": {},
   "outputs": [],
   "source": []
  },
  {
   "cell_type": "code",
   "execution_count": 2,
   "id": "8ea1e481",
   "metadata": {},
   "outputs": [],
   "source": [
    "img_rows, img_cols = 28, 28\n",
    "\n",
    "from keras.models import Sequential\n",
    "from keras.layers import Dense, Conv2D, Flatten"
   ]
  },
  {
   "cell_type": "code",
   "execution_count": 3,
   "id": "7c3c4401",
   "metadata": {},
   "outputs": [],
   "source": [
    "(train_data, train_labels), \\\n",
    "                    (test_data, test_labels) = tf.keras.datasets.fashion_mnist.load_data()"
   ]
  },
  {
   "cell_type": "code",
   "execution_count": 4,
   "id": "a668d305",
   "metadata": {},
   "outputs": [],
   "source": [
    "train_data = train_data[(train_labels >= 0)\\\n",
    "                        & (train_labels < 3)][0:50].reshape(-1, 28, 28, 1)\n",
    "train_labels = train_labels[(train_labels >= 0) & (train_labels < 3)][0:50]\n",
    "train_labels = pd.get_dummies(train_labels).to_numpy()"
   ]
  },
  {
   "cell_type": "code",
   "execution_count": 5,
   "id": "a404aa72",
   "metadata": {},
   "outputs": [],
   "source": [
    "test_data = test_data[(test_labels >= 0) & (test_labels < 3)][0:10].reshape(-1, 28, 28, 1)\n",
    "test_labels = test_labels[(test_labels >= 0) & (test_labels < 3)][0:10]\n",
    "test_labels = pd.get_dummies(test_labels).to_numpy()"
   ]
  },
  {
   "cell_type": "markdown",
   "id": "ab249df6",
   "metadata": {},
   "source": [
    "### Keras pooling layers\n",
    "\n",
    "Keras implements a pooling operation as a layer that can be added to CNNs between other layers. In this exercise, you will construct a convolutional neural network similar to the one you have constructed before:\n",
    "\n",
    "Convolution => Convolution => Flatten => Dense\n",
    "\n",
    "However, you will also add a pooling layer. The architecture will add a single max-pooling layer between the convolutional layer and the dense layer with a pooling of 2x2:\n",
    "\n",
    "Convolution => Max pooling => Convolution => Flatten => Dense\n",
    "\n",
    "A Sequential model along with Dense, Conv2D, Flatten, and MaxPool2D objects are available in your workspace.\n",
    "* Instructions\n",
    "\n",
    "    * Add an input convolutional layer (15 units, kernel size of 2, relu activation).\n",
    "    * Add a maximum pooling operation (pooling over windows of size 2x2).\n",
    "    * Add another convolution layer (5 units, kernel size of 2, relu activation).\n",
    "    * Flatten the output of the second convolution and add a Dense layer for output (3 categories, softmax activation).\n",
    "\n"
   ]
  },
  {
   "cell_type": "code",
   "execution_count": 6,
   "id": "727bca8b",
   "metadata": {},
   "outputs": [
    {
     "name": "stdout",
     "output_type": "stream",
     "text": [
      "Model: \"sequential\"\n",
      "_________________________________________________________________\n",
      "Layer (type)                 Output Shape              Param #   \n",
      "=================================================================\n",
      "conv2d (Conv2D)              (None, 27, 27, 15)        75        \n",
      "_________________________________________________________________\n",
      "max_pooling2d (MaxPooling2D) (None, 13, 13, 15)        0         \n",
      "_________________________________________________________________\n",
      "conv2d_1 (Conv2D)            (None, 12, 12, 5)         305       \n",
      "_________________________________________________________________\n",
      "flatten (Flatten)            (None, 720)               0         \n",
      "_________________________________________________________________\n",
      "dense (Dense)                (None, 3)                 2163      \n",
      "=================================================================\n",
      "Total params: 2,543\n",
      "Trainable params: 2,543\n",
      "Non-trainable params: 0\n",
      "_________________________________________________________________\n"
     ]
    },
    {
     "name": "stderr",
     "output_type": "stream",
     "text": [
      "2021-12-22 00:00:33.923147: W tensorflow/stream_executor/platform/default/dso_loader.cc:64] Could not load dynamic library 'libcuda.so.1'; dlerror: libcuda.so.1: cannot open shared object file: No such file or directory\n",
      "2021-12-22 00:00:33.923194: W tensorflow/stream_executor/cuda/cuda_driver.cc:326] failed call to cuInit: UNKNOWN ERROR (303)\n",
      "2021-12-22 00:00:33.923233: I tensorflow/stream_executor/cuda/cuda_diagnostics.cc:156] kernel driver does not appear to be running on this host (Rabie): /proc/driver/nvidia/version does not exist\n",
      "2021-12-22 00:00:33.923528: I tensorflow/core/platform/cpu_feature_guard.cc:142] This TensorFlow binary is optimized with oneAPI Deep Neural Network Library (oneDNN) to use the following CPU instructions in performance-critical operations:  AVX2 FMA\n",
      "To enable them in other operations, rebuild TensorFlow with the appropriate compiler flags.\n"
     ]
    }
   ],
   "source": [
    "from keras.layers import MaxPool2D\n",
    "model2 = Sequential()\n",
    "\n",
    "# Add a convolutional layer\n",
    "model2.add(Conv2D(15, kernel_size=2, activation='relu', \n",
    "                 input_shape=(img_rows, img_cols, 1)))\n",
    "\n",
    "# Add a pooling operation\n",
    "model2.add(MaxPool2D(2))\n",
    "\n",
    "# Add another convolutional layer\n",
    "model2.add(Conv2D(5, kernel_size=2, activation='relu'))\n",
    "\n",
    "# Flatten and feed to output layer\n",
    "model2.add(Flatten())\n",
    "model2.add(Dense(3, activation='softmax'))\n",
    "model2.summary()"
   ]
  },
  {
   "cell_type": "code",
   "execution_count": 7,
   "id": "7dfbc0c3",
   "metadata": {
    "scrolled": true
   },
   "outputs": [
    {
     "name": "stderr",
     "output_type": "stream",
     "text": [
      "2021-12-22 00:00:34.279620: I tensorflow/compiler/mlir/mlir_graph_optimization_pass.cc:176] None of the MLIR Optimization Passes are enabled (registered 2)\n",
      "2021-12-22 00:00:34.280086: I tensorflow/core/platform/profile_utils/cpu_utils.cc:114] CPU Frequency: 2394475000 Hz\n"
     ]
    },
    {
     "name": "stdout",
     "output_type": "stream",
     "text": [
      "Epoch 1/3\n",
      "4/4 [==============================] - 18s 161ms/step - loss: 24.8861 - accuracy: 0.3667 - val_loss: 12.1646 - val_accuracy: 0.4000\n",
      "Epoch 2/3\n",
      "4/4 [==============================] - 0s 14ms/step - loss: 11.3351 - accuracy: 0.3933 - val_loss: 1.7711 - val_accuracy: 0.7000\n",
      "Epoch 3/3\n",
      "4/4 [==============================] - 0s 17ms/step - loss: 6.0867 - accuracy: 0.5833 - val_loss: 0.0147 - val_accuracy: 1.0000\n",
      "1/1 [==============================] - 0s 14ms/step - loss: 1.4863 - accuracy: 0.8000\n"
     ]
    },
    {
     "data": {
      "text/plain": [
       "[1.486342430114746, 0.800000011920929]"
      ]
     },
     "execution_count": 7,
     "metadata": {},
     "output_type": "execute_result"
    }
   ],
   "source": [
    "# Compile model\n",
    "model2.compile(optimizer='adam', \n",
    "              loss='categorical_crossentropy', \n",
    "              metrics=['accuracy'])\n",
    "\n",
    "# Fit the model to training data \n",
    "model2.fit(train_data, train_labels, \n",
    "          validation_split=0.2, \n",
    "          epochs=3, batch_size=10)\n",
    "\n",
    "# Evaluate the model on test data\n",
    "model2.evaluate(test_data, test_labels, batch_size=10)"
   ]
  },
  {
   "cell_type": "code",
   "execution_count": 8,
   "id": "6312d3f5",
   "metadata": {},
   "outputs": [],
   "source": [
    "from keras.callbacks import ModelCheckpoint\n",
    "\n",
    "# This checkpoint object will store the model parameters\n",
    "# in the file \"weights.hdf5\"\n",
    "checkpoint = ModelCheckpoint('weights.hdf5', monitor='val_loss', save_best_only=True)\n",
    "# Store in a list to be used during training\n",
    "callbacks_list = [checkpoint]\n"
   ]
  },
  {
   "cell_type": "markdown",
   "id": "7696b298",
   "metadata": {},
   "source": [
    "### Plot the learning curves\n",
    "\n",
    "During learning, the model will store the loss function evaluated in each epoch. Looking at the learning curves can tell us quite a bit about the learning process. In this exercise, you will plot the learning and validation loss curves for a model that you will train.\n",
    "* Instructions\n",
    "\n",
    "    * Fit the model to the training data (train_data).\n",
    "    * Use a validation split of 20%, 3 epochs and batch size of 10.\n",
    "    * Plot the training loss.\n",
    "    * Plot the validation loss.\n"
   ]
  },
  {
   "cell_type": "code",
   "execution_count": 9,
   "id": "43fc90d5",
   "metadata": {},
   "outputs": [
    {
     "name": "stdout",
     "output_type": "stream",
     "text": [
      "Epoch 1/3\n",
      "4/4 [==============================] - 0s 20ms/step - loss: 1.5495 - accuracy: 0.7000 - val_loss: 0.0894 - val_accuracy: 0.9000\n",
      "Epoch 2/3\n",
      "4/4 [==============================] - 0s 12ms/step - loss: 0.4699 - accuracy: 0.9000 - val_loss: 0.6932 - val_accuracy: 0.9000\n",
      "Epoch 3/3\n",
      "4/4 [==============================] - 0s 15ms/step - loss: 0.4454 - accuracy: 0.9250 - val_loss: 0.8734 - val_accuracy: 0.8000\n"
     ]
    },
    {
     "data": {
      "image/png": "[encoded data removed]",
      "text/plain": [
       "<Figure size 432x288 with 1 Axes>"
      ]
     },
     "metadata": {
      "needs_background": "light"
     },
     "output_type": "display_data"
    }
   ],
   "source": [
    "import matplotlib.pyplot as plt\n",
    "\n",
    "# Train the model and store the training object\n",
    "training = model2.fit(train_data, train_labels, validation_split=0.2, epochs=3, batch_size=10, callbacks=callbacks_list)\n",
    "\n",
    "# Extract the history from the training object\n",
    "history = training.history\n",
    "\n",
    "# Plot the training loss \n",
    "plt.plot(history['loss'])\n",
    "# Plot the validation loss\n",
    "plt.plot(history['val_loss'])\n",
    "\n",
    "# Show the figure\n",
    "plt.show()"
   ]
  },
  {
   "cell_type": "markdown",
   "id": "9a77bbea",
   "metadata": {},
   "source": [
    "### Using stored weights to predict in a test set\n",
    "\n",
    "Model weights stored in an hdf5 file can be reused to populate an untrained model. Once the weights are loaded into this model, it behaves just like a model that has been trained to reach these weights. For example, you can use this model to make predictions from an unseen data set (e.g. test_data)."
   ]
  },
  {
   "cell_type": "code",
   "execution_count": 10,
   "id": "a4edc7fc",
   "metadata": {},
   "outputs": [
    {
     "data": {
      "text/plain": [
       "array([[1.3484937e-23, 5.6163375e-33, 1.0000000e+00],\n",
       "       [1.9261641e-12, 1.0000000e+00, 1.0164177e-16],\n",
       "       [2.5225599e-10, 9.9999964e-01, 4.1510873e-07]], dtype=float32)"
      ]
     },
     "execution_count": 10,
     "metadata": {},
     "output_type": "execute_result"
    }
   ],
   "source": [
    "# Load the weights from file\n",
    "model2.load_weights('weights.hdf5')\n",
    "\n",
    "# Predict from the first three images in the test data\n",
    "model2.predict(test_data[:3])"
   ]
  },
  {
   "cell_type": "markdown",
   "id": "69e1f6a4",
   "metadata": {},
   "source": [
    "### Adding dropout to your network\n",
    "\n",
    "Dropout is a form of regularization that removes a different random subset of the units in a layer in each round of training. In this exercise, we will add dropout to the convolutional neural network that we have used in previous exercises:\n",
    "\n",
    "* Convolution (15 units, kernel size 2, 'relu' activation)\n",
    "* Dropout (20%)\n",
    "* Convolution (5 units, kernel size 2, 'relu' activation)\n",
    "* Flatten\n",
    "* Dense (3 units, 'softmax' activation)\n",
    "\n",
    "A Sequential model along with Dense, Conv2D, Flatten, and Dropout objects are available in your workspace."
   ]
  },
  {
   "cell_type": "code",
   "execution_count": 11,
   "id": "60fd73fc",
   "metadata": {},
   "outputs": [],
   "source": [
    "from keras.layers import Dropout\n",
    "model = Sequential()\n",
    "# Add a convolutional layer\n",
    "model.add(Conv2D(15, kernel_size=2, activation='relu', input_shape=(img_rows, img_cols, 1)))\n",
    "\n",
    "# Add a dropout layer\n",
    "model.add(Dropout(0.2))\n",
    "\n",
    "# Add another convolutional layer\n",
    "model.add(Conv2D(5, kernel_size=2, activation='relu'))\n",
    "\n",
    "# Flatten and feed to output layer\n",
    "model.add(Flatten())\n",
    "model.add(Dense(3, activation='softmax'))"
   ]
  },
  {
   "cell_type": "markdown",
   "id": "35444582",
   "metadata": {},
   "source": [
    "### Add batch normalization to your network\n",
    "\n",
    "Batch normalization is another form of regularization that rescales the outputs of a layer to make sure that they have mean 0 and standard deviation 1. In this exercise, we will add batch normalization to the convolutional neural network that we have used in previous exercises:\n",
    "\n",
    "* Convolution (15 units, kernel size 2, 'relu' activation)\n",
    "* Batch normalization\n",
    "* Convolution (5 unites, kernel size 2, 'relu' activation)\n",
    "* Flatten\n",
    "* Dense (3 units, 'softmax' activation)\n",
    "\n",
    "A Sequential model along with Dense, Conv2D, Flatten, and Dropout objects are available in your workspace."
   ]
  },
  {
   "cell_type": "code",
   "execution_count": 13,
   "id": "7696b6c1",
   "metadata": {},
   "outputs": [],
   "source": [
    "from keras.layers import BatchNormalization,Conv2D\n",
    "model3 = Sequential()\n",
    "\n",
    "# Add a convolutional layer\n",
    "model3.add(Conv2D(15, kernel_size=2, activation='relu', input_shape=(img_rows, img_cols, 1)))\n",
    "\n",
    "# Add batch normalization layer\n",
    "model3.add(BatchNormalization())\n",
    "\n",
    "# Add another convolutional layer\n",
    "model3.add(Conv2D(5, kernel_size=2, activation='relu'))\n",
    "\n",
    "# Flatten and feed to output layer\n",
    "model3.add(Flatten())\n",
    "model3.add(Dense(3, activation='softmax'))"
   ]
  },
  {
   "cell_type": "code",
   "execution_count": 15,
   "id": "1b39da4f",
   "metadata": {},
   "outputs": [
    {
     "data": {
      "text/plain": [
       "[array([[[[-0.11963275,  0.2413415 ,  0.03992316,  0.13656375,\n",
       "           -0.07018296, -0.23446281,  0.10438529,  0.15317443,\n",
       "            0.15457335,  0.04838684, -0.18231463, -0.03348941,\n",
       "            0.04724482, -0.19558801, -0.18724638]],\n",
       " \n",
       "         [[ 0.06677115,  0.22325704, -0.1516061 , -0.22192258,\n",
       "            0.14164364, -0.26261926,  0.27078864,  0.10053349,\n",
       "            0.14987087,  0.26489   ,  0.2083101 ,  0.0960106 ,\n",
       "            0.05354118, -0.1640937 , -0.11456148]]],\n",
       " \n",
       " \n",
       "        [[[-0.01248249, -0.0834662 , -0.3028851 , -0.00348899,\n",
       "            0.15421915,  0.08237776, -0.01248637,  0.11499971,\n",
       "           -0.00457788,  0.14315993,  0.0229966 ,  0.1007925 ,\n",
       "           -0.04562882, -0.19663309,  0.29258034]],\n",
       " \n",
       "         [[ 0.1464816 ,  0.25604168, -0.0038366 ,  0.08809575,\n",
       "            0.17426604, -0.0631744 , -0.13426936, -0.08236653,\n",
       "            0.20829579, -0.07570851,  0.095305  , -0.0181607 ,\n",
       "           -0.2078878 , -0.19212064, -0.10652727]]]], dtype=float32),\n",
       " array([0., 0., 0., 0., 0., 0., 0., 0., 0., 0., 0., 0., 0., 0., 0.],\n",
       "       dtype=float32)]"
      ]
     },
     "execution_count": 15,
     "metadata": {},
     "output_type": "execute_result"
    }
   ],
   "source": [
    "model3.layers[0].get_weights()"
   ]
  },
  {
   "cell_type": "markdown",
   "id": "ed22ec51",
   "metadata": {},
   "source": [
    "### Extracting a kernel from a trained network\n",
    "\n",
    "One way to interpret models is to examine the properties of the kernels in the convolutional layers. In this exercise, you will extract one of the kernels from a convolutional neural network with weights that you saved in a hdf5 file."
   ]
  },
  {
   "cell_type": "code",
   "execution_count": 21,
   "id": "b3ba245c",
   "metadata": {},
   "outputs": [
    {
     "name": "stdout",
     "output_type": "stream",
     "text": [
      "[[-0.12829943 -0.2166776 ]\n",
      " [ 0.09835991  0.20409702]]\n"
     ]
    }
   ],
   "source": [
    "# Load the weights into the model\n",
    "model2.load_weights('weights.hdf5')\n",
    "\n",
    "# Get the first convolutional layer from the model\n",
    "c1 = model2.layers[0]\n",
    "\n",
    "# Get the weights of the first convolutional layer\n",
    "weights1 = c1.get_weights()\n",
    "\n",
    "# Pull out the first channel of the first kernel in the first layer\n",
    "kernel = weights1[0][...,0, 0]\n",
    "print(kernel)"
   ]
  },
  {
   "cell_type": "code",
   "execution_count": null,
   "id": "dea3c413",
   "metadata": {},
   "outputs": [],
   "source": []
  }
 ],
 "metadata": {
  "kernelspec": {
   "display_name": "Python 3 (ipykernel)",
   "language": "python",
   "name": "python3"
  },
  "language_info": {
   "codemirror_mode": {
    "name": "ipython",
    "version": 3
   },
   "file_extension": ".py",
   "mimetype": "text/x-python",
   "name": "python",
   "nbconvert_exporter": "python",
   "pygments_lexer": "ipython3",
   "version": "3.8.10"
  }
 },
 "nbformat": 4,
 "nbformat_minor": 5
}
