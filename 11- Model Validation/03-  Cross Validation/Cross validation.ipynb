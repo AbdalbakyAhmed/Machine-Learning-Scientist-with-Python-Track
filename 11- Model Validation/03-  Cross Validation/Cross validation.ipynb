{
 "cells": [
  {
   "cell_type": "code",
   "execution_count": 23,
   "id": "802366db",
   "metadata": {},
   "outputs": [],
   "source": [
    "import pandas as pd\n",
    "import numpy as np\n",
    "from sklearn.model_selection import train_test_split"
   ]
  },
  {
   "cell_type": "code",
   "execution_count": 9,
   "id": "d062d685",
   "metadata": {},
   "outputs": [],
   "source": [
    "candy = pd.read_csv('../candy-data.csv')\n",
    "X = candy.drop(['competitorname', 'winpercent'], axis=1).values\n",
    "y = candy['winpercent'].values"
   ]
  },
  {
   "cell_type": "code",
   "execution_count": 18,
   "id": "cb596afd",
   "metadata": {},
   "outputs": [
    {
     "data": {
      "text/plain": [
       "(85, 11)"
      ]
     },
     "execution_count": 18,
     "metadata": {},
     "output_type": "execute_result"
    }
   ],
   "source": [
    "X.shape"
   ]
  },
  {
   "cell_type": "markdown",
   "id": "60ede8ee",
   "metadata": {},
   "source": [
    "### scikit-learn's KFold()\n",
    "\n",
    "You just finished running a colleagues code that creates a random forest model and calculates an out-of-sample accuracy. You noticed that your colleague's code did not have a random state, and the errors you found were completely different than the errors your colleague reported.\n",
    "\n",
    "To get a better estimate for how accurate this random forest model will be on new data, you have decided to generate some indices to use for KFold cross-validation.\n",
    "* Instructions\n",
    "\n",
    "    * Call the KFold() method to split data using five splits, shuffling, and a random state of 1111.\n",
    "    * Use the split() method of KFold on X.\n",
    "    * Print the number of indices in both the train and validation indices lists.\n"
   ]
  },
  {
   "cell_type": "code",
   "execution_count": 15,
   "id": "7dd38547",
   "metadata": {},
   "outputs": [],
   "source": [
    "from sklearn.model_selection import KFold\n",
    "\n",
    "# Use KFold\n",
    "kf = KFold(n_splits=5, shuffle=True, random_state=1111)\n",
    "\n",
    "# Create splits\n",
    "splits = kf.split(X)\n",
    "\n",
    "# # Print the number of indices\n",
    "# for train_index, val_index in splits:\n",
    "#     print(\"Number of training indices: %s\" % len(train_index))\n",
    "#     print(\"Number of validation indices: %s\" % len(val_index))"
   ]
  },
  {
   "cell_type": "markdown",
   "id": "ca46f9f1",
   "metadata": {},
   "source": [
    "### Using KFold indices\n",
    "\n",
    "You have already created splits, which contains indices for the candy-data dataset to complete 5-fold cross-validation. To get a better estimate for how well a colleague's random forest model will perform on a new data, you want to run this model on the five different training and validation indices you just created.\n",
    "\n",
    "In this exercise, you will use these indices to check the accuracy of this model using the five different splits. A for loop has been provided to assist with this process.\n",
    "* Instructions\n",
    "\n",
    "    * Use train_index and val_index to call the correct indices of X and y when creating training and validation data.\n",
    "    * Fit rfc using the training dataset\n",
    "    * Use rfc to create predictions for validation dataset and print the validation accuracy\n"
   ]
  },
  {
   "cell_type": "code",
   "execution_count": 16,
   "id": "2346d4d3",
   "metadata": {},
   "outputs": [
    {
     "name": "stdout",
     "output_type": "stream",
     "text": [
      "Split accuracy: 150.99298148707666\n",
      "Split accuracy: 171.22206240542593\n",
      "Split accuracy: 131.72569156195593\n",
      "Split accuracy: 80.61940183841385\n",
      "Split accuracy: 221.63020627476214\n"
     ]
    }
   ],
   "source": [
    "from sklearn.ensemble import RandomForestRegressor\n",
    "from sklearn.metrics import mean_squared_error\n",
    "\n",
    "rfc = RandomForestRegressor(n_estimators=25, random_state=1111)\n",
    "\n",
    "# Access the training and validation indices of splits\n",
    "for train_index, val_index in splits:\n",
    "\n",
    "    # Setup the training and validation data\n",
    "    X_train, y_train = X[train_index], y[train_index]\n",
    "    X_val, y_val = X[val_index], y[val_index]\n",
    "    # Fit the random forest model\n",
    "    rfc.fit(X_train, y_train)\n",
    "    # Make predictions, and print the accuracy\n",
    "    predictions = rfc.predict(X_val)\n",
    "    print(\"Split accuracy: \" + str(mean_squared_error(y_val, predictions)))"
   ]
  },
  {
   "cell_type": "markdown",
   "id": "eeadee71",
   "metadata": {},
   "source": [
    "### scikit-learn's methods\n",
    "\n",
    "You have decided to build a regression model to predict the number of new employees your company will successfully hire next month. You open up a new Python script to get started, but you quickly realize that sklearn has a lot of different modules. Let's make sure you understand the names of the modules, the methods, and which module contains which method.\n",
    "\n",
    "Follow the instructions below to load in all of the necessary methods for completing cross-validation using sklearn. You will use modules:\n",
    "\n",
    "    - metrics\n",
    "    - model_selection\n",
    "    - ensemble\n",
    "\n",
    "* Instructions\n",
    "\n",
    "    * Load the method for calculating the scores of cross-validation.\n",
    "    * Load the random forest regression method.\n",
    "    * Load the mean square error metric.\n",
    "    * Load the method for creating a scorer to use with cross-validation.\n"
   ]
  },
  {
   "cell_type": "code",
   "execution_count": 17,
   "id": "27bfec0a",
   "metadata": {},
   "outputs": [],
   "source": [
    "# Instruction 1: Load the cross-validation method\n",
    "from sklearn.model_selection import cross_val_score\n",
    "\n",
    "# Instruction 2: Load the random forest regression model\n",
    "from sklearn.ensemble import RandomForestRegressor\n",
    "\n",
    "# Instruction 3: Load the mean squared error method\n",
    "# Instruction 4: Load the function for creating a scorer\n",
    "from sklearn.metrics import mean_squared_error, make_scorer"
   ]
  },
  {
   "cell_type": "markdown",
   "id": "c5caa2c1",
   "metadata": {},
   "source": [
    "### Implement cross_val_score()\n",
    "\n",
    "Your company has created several new candies to sell, but they are not sure if they should release all five of them. To predict the popularity of these new candies, you have been asked to build a regression model using the candy dataset. Remember that the response value is a head-to-head win-percentage against other candies.\n",
    "\n",
    "Before you begin trying different regression models, you have decided to run cross-validation on a simple random forest model to get a baseline error to compare with any future results.\n",
    "* Instructions\n",
    "\n",
    "    * Fill in cross_val_score().\n",
    "        * Use X_train for the training data, and y_train for the response.\n",
    "        * Use rfc as the model, 10-fold cross-validation, and mse for the scoring function.\n",
    "    * Print the mean of the cv results.\n"
   ]
  },
  {
   "cell_type": "code",
   "execution_count": 22,
   "id": "8a5203b3",
   "metadata": {},
   "outputs": [
    {
     "name": "stdout",
     "output_type": "stream",
     "text": [
      "155.4061992697056\n"
     ]
    }
   ],
   "source": [
    "rfc = RandomForestRegressor(n_estimators=25, random_state=1111)\n",
    "mse = make_scorer(mean_squared_error)\n",
    "\n",
    "# Set up cross_val_score\n",
    "cv = cross_val_score(estimator=rfc,\n",
    "                     X=X,\n",
    "                     y=y,\n",
    "                     cv=10,\n",
    "                     scoring=mse)\n",
    "\n",
    "# Print the mean error\n",
    "print(cv.mean())"
   ]
  },
  {
   "cell_type": "markdown",
   "id": "6fed4ad5",
   "metadata": {},
   "source": [
    "### Leave-one-out-cross-validation\n",
    "\n",
    "Let's assume your favorite candy is not in the candy dataset, and that you are interested in the popularity of this candy. Using 5-fold cross-validation will train on only 80% of the data at a time. The candy dataset only has 85 rows though, and leaving out 20% of the data could hinder our model. However, using leave-one-out-cross-validation allows us to make the most out of our limited dataset and will give you the best estimate for your favorite candy's popularity!\n",
    "\n",
    "In this exercise, you will use cross_val_score() to perform LOOCV.\n",
    "* Instructions\n",
    "\n",
    "    * Create a scorer using mean_absolute_error for cross_val_score() to use.\n",
    "    * Fill out cross_val_score() so that the model rfr, the newly defined mae_scorer, and LOOCV are used.\n",
    "    * Print the mean and the standard deviation of scores using numpy (loaded as np).\n"
   ]
  },
  {
   "cell_type": "code",
   "execution_count": 24,
   "id": "76f2bcbf",
   "metadata": {},
   "outputs": [
    {
     "name": "stdout",
     "output_type": "stream",
     "text": [
      "The mean of the errors is: 9.52044832324183.\n",
      "The standard deviation of the errors is: 7.349020637882744.\n"
     ]
    }
   ],
   "source": [
    "from sklearn.metrics import mean_absolute_error\n",
    "\n",
    "# Create scorer\n",
    "mae_scorer = make_scorer(mean_absolute_error)\n",
    "\n",
    "rfr = RandomForestRegressor(n_estimators=15, random_state=1111)\n",
    "\n",
    "# Implement LOOCV\n",
    "scores = cross_val_score(estimator=rfr, X=X, y=y, cv=X.shape[0], scoring=mae_scorer)\n",
    "\n",
    "# Print the mean and standard deviation\n",
    "print(\"The mean of the errors is: %s.\" % np.mean(scores))\n",
    "print(\"The standard deviation of the errors is: %s.\" % np.std(scores))"
   ]
  },
  {
   "cell_type": "code",
   "execution_count": 27,
   "id": "183283b6",
   "metadata": {},
   "outputs": [
    {
     "data": {
      "text/plain": [
       "array([2.37803333e-02, 2.47870369e+01, 9.74897547e+00, 1.40292680e+01,\n",
       "       1.22347290e+01, 1.43984723e+01, 1.17134173e+01, 1.20722279e+01,\n",
       "       1.67160833e+00, 1.07965839e+01, 2.57086265e+01, 1.06381219e+01,\n",
       "       2.58195450e+01, 1.50089847e+00, 1.39027689e-01, 7.17617623e+00,\n",
       "       4.52800693e+00, 3.40470937e+00, 1.32163223e+01, 6.53413516e+00,\n",
       "       3.93743453e+00, 1.05286297e+01, 1.30081473e+01, 1.63382045e+00,\n",
       "       1.19905627e+00, 3.74306153e+00, 1.49037726e+01, 1.17556338e+01,\n",
       "       2.39771329e+01, 2.02822253e+00, 7.46256057e+00, 9.55056979e+00,\n",
       "       4.66078733e+00, 2.59597487e+00, 1.87996015e+00, 5.31957400e-01,\n",
       "       1.16452668e+01, 1.66770417e+00, 3.68189193e+00, 1.09313461e+01,\n",
       "       4.08630213e+00, 1.05372750e+01, 1.04115449e+01, 4.97415680e+00,\n",
       "       2.13397774e+01, 8.95420552e+00, 1.38958781e+01, 7.27031000e+00,\n",
       "       1.43695623e+00, 3.13020387e+00, 9.57358255e+00, 3.16714277e+01,\n",
       "       1.49936082e+01, 1.87028892e+01, 2.88288620e+00, 4.24834540e+00,\n",
       "       5.69667367e+00, 9.79713333e+00, 7.95805793e+00, 1.84131237e+01,\n",
       "       1.13709325e+01, 1.39937948e+00, 2.09813270e+01, 1.98186373e+00,\n",
       "       3.68961633e+00, 1.66582625e+01, 1.10991191e+01, 1.10016931e+00,\n",
       "       2.76682549e+01, 7.06285520e+00, 1.33939487e+01, 7.46107740e+00,\n",
       "       2.29141127e+01, 1.54801104e+01, 8.08954720e+00, 1.70595048e+01,\n",
       "       3.20504433e+00, 1.56748000e+00, 2.72910533e-01, 1.72783657e+01,\n",
       "       6.35045860e+00, 1.21161178e+00, 5.94696123e+00, 7.35500440e+00,\n",
       "       1.72012522e+01])"
      ]
     },
     "execution_count": 27,
     "metadata": {},
     "output_type": "execute_result"
    }
   ],
   "source": [
    "scores"
   ]
  },
  {
   "cell_type": "code",
   "execution_count": null,
   "id": "adb7417f",
   "metadata": {},
   "outputs": [],
   "source": []
  }
 ],
 "metadata": {
  "kernelspec": {
   "display_name": "Python 3 (ipykernel)",
   "language": "python",
   "name": "python3"
  },
  "language_info": {
   "codemirror_mode": {
    "name": "ipython",
    "version": 3
   },
   "file_extension": ".py",
   "mimetype": "text/x-python",
   "name": "python",
   "nbconvert_exporter": "python",
   "pygments_lexer": "ipython3",
   "version": "3.8.10"
  }
 },
 "nbformat": 4,
 "nbformat_minor": 5
}
