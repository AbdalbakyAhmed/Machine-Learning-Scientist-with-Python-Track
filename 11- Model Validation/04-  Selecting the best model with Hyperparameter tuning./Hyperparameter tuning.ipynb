{
 "cells": [
  {
   "cell_type": "code",
   "execution_count": 1,
   "id": "a2d99f67",
   "metadata": {},
   "outputs": [],
   "source": [
    "import pandas as pd\n",
    "import numpy as np\n",
    "from sklearn.model_selection import train_test_split"
   ]
  },
  {
   "cell_type": "code",
   "execution_count": 2,
   "id": "567faae9",
   "metadata": {},
   "outputs": [],
   "source": [
    "candy = pd.read_csv('../candy-data.csv')\n",
    "X = candy.drop(['competitorname', 'winpercent'], axis=1).values\n",
    "y = candy['winpercent'].values"
   ]
  },
  {
   "cell_type": "code",
   "execution_count": 3,
   "id": "0ef053ca",
   "metadata": {},
   "outputs": [],
   "source": [
    "X_train, X_test, y_train, y_test = train_test_split(X,y, train_size=.8, random_state=111)"
   ]
  },
  {
   "cell_type": "code",
   "execution_count": 6,
   "id": "fbcc64d8",
   "metadata": {},
   "outputs": [
    {
     "data": {
      "text/plain": [
       "RandomForestRegressor(n_estimators=25, random_state=1111)"
      ]
     },
     "execution_count": 6,
     "metadata": {},
     "output_type": "execute_result"
    }
   ],
   "source": [
    "from sklearn.ensemble import RandomForestRegressor\n",
    "rfr = RandomForestRegressor(n_estimators=25, random_state=1111)\n",
    "rfr.fit(X_train, y_train)"
   ]
  },
  {
   "cell_type": "code",
   "execution_count": 10,
   "id": "bfcab8b6",
   "metadata": {},
   "outputs": [
    {
     "name": "stdout",
     "output_type": "stream",
     "text": [
      "{'bootstrap': True, 'ccp_alpha': 0.0, 'criterion': 'mse', 'max_depth': None, 'max_features': 'auto', 'max_leaf_nodes': None, 'max_samples': None, 'min_impurity_decrease': 0.0, 'min_impurity_split': None, 'min_samples_leaf': 1, 'min_samples_split': 2, 'min_weight_fraction_leaf': 0.0, 'n_estimators': 25, 'n_jobs': None, 'oob_score': False, 'random_state': 1111, 'verbose': 0, 'warm_start': False}\n"
     ]
    }
   ],
   "source": [
    "# Review the parameters of rfr\n",
    "print(rfr.get_params())\n",
    "\n",
    "# Maximum Depth\n",
    "max_depth = [4, 8, 12]\n",
    "\n",
    "# Minimum samples for a split\n",
    "min_samples_split = [2, 5, 10]\n",
    "\n",
    "# Max features \n",
    "max_features = [4, 6, 8, 10]"
   ]
  },
  {
   "cell_type": "markdown",
   "id": "4b794e42",
   "metadata": {},
   "source": [
    "### Running a model using ranges\n",
    "\n",
    "You have just finished creating a list of hyperparameters and ranges to use when tuning a predictive model for an assignment. You have used max_depth, min_samples_split, and max_features as your range variable names.\n",
    "* Instructions\n",
    "\n",
    "    * Randomly select a max_depth, min_samples_split, and max_features using your range variables.\n",
    "    * Print out all of the parameters for rfr to see which values were randomly selected.\n"
   ]
  },
  {
   "cell_type": "code",
   "execution_count": 11,
   "id": "b6cba7f4",
   "metadata": {},
   "outputs": [
    {
     "name": "stdout",
     "output_type": "stream",
     "text": [
      "{'bootstrap': True, 'ccp_alpha': 0.0, 'criterion': 'mse', 'max_depth': 12, 'max_features': 8, 'max_leaf_nodes': None, 'max_samples': None, 'min_impurity_decrease': 0.0, 'min_impurity_split': None, 'min_samples_leaf': 1, 'min_samples_split': 10, 'min_weight_fraction_leaf': 0.0, 'n_estimators': 100, 'n_jobs': None, 'oob_score': False, 'random_state': None, 'verbose': 0, 'warm_start': False}\n"
     ]
    }
   ],
   "source": [
    "from sklearn.ensemble import RandomForestRegressor\n",
    "\n",
    "# Fill in rfr using your variables\n",
    "rfr = RandomForestRegressor(\n",
    "    n_estimators=100,\n",
    "        max_depth=np.random.choice(max_depth),\n",
    "        min_samples_split=np.random.choice(min_samples_split),\n",
    "        max_features=np.random.choice(max_features))\n",
    "\n",
    "# Print out the parameters\n",
    "print(rfr.get_params())"
   ]
  },
  {
   "cell_type": "markdown",
   "id": "efc518b2",
   "metadata": {},
   "source": [
    "### Preparing for RandomizedSearch\n",
    "\n",
    "Last semester your professor challenged your class to build a predictive model to predict final exam test scores. You tried running a few different models by randomly selecting hyperparameters. However, running each model required you to code it individually.\n",
    "\n",
    "After learning about RandomizedSearchCV(), you're revisiting your professors challenge to build the best model. In this exercise, you will prepare the three necessary inputs for completing a random search.\n",
    "* Instructions\n",
    "\n",
    "    * Finalize the parameter dictionary by adding a list for the max_depth parameter with options 2, 4, 6, and 8.\n",
    "    * Create a random forest regression model with ten trees and a random_state of 1111.\n",
    "    * Create a mean squared error scorer to use.\n"
   ]
  },
  {
   "cell_type": "code",
   "execution_count": 16,
   "id": "f23fbee6",
   "metadata": {},
   "outputs": [],
   "source": [
    "from sklearn.ensemble import RandomForestRegressor\n",
    "from sklearn.metrics import make_scorer, mean_squared_error\n",
    "\n",
    "# Finish the dictionary by adding the max_depth parameter\n",
    "param_dist = {\"max_depth\": [2, 4, 6, 8],\n",
    "              \"max_features\": [2, 4, 6, 8, 10],\n",
    "              \"min_samples_split\": [2, 4, 8, 16]}\n",
    "\n",
    "# Create a random forest regression model\n",
    "rfr = RandomForestRegressor(n_estimators=10, random_state=1111)\n",
    "\n",
    "# Create a scorer to use (use the mean squared error)\n",
    "mse = make_scorer(mean_squared_error)"
   ]
  },
  {
   "cell_type": "markdown",
   "id": "75b195d6",
   "metadata": {},
   "source": [
    "### Implementing RandomizedSearchCV\n",
    "\n",
    "You are hoping that using a random search algorithm will help you improve predictions for a class assignment. You professor has challenged your class to predict the overall final exam average score.\n",
    "\n",
    "In preparation for completing a random search, you have created:\n",
    "\n",
    "* `param_dist`: the hyperparameter distributions\n",
    "* `rfr`: a random forest regression model\n",
    "* `scorer`: a scoring method to use\n"
   ]
  },
  {
   "cell_type": "code",
   "execution_count": 17,
   "id": "a70d4afa",
   "metadata": {},
   "outputs": [],
   "source": [
    "# Import the method for random search\n",
    "from sklearn.model_selection import RandomizedSearchCV\n",
    "\n",
    "# Build a random search using param_dist, rfr, and scorer\n",
    "random_search =\\\n",
    "    RandomizedSearchCV(\n",
    "        estimator=rfr,\n",
    "        param_distributions=param_dist,\n",
    "        n_iter=10,\n",
    "        cv=5,\n",
    "        scoring=mse)"
   ]
  },
  {
   "cell_type": "code",
   "execution_count": 18,
   "id": "0249a581",
   "metadata": {},
   "outputs": [
    {
     "data": {
      "text/plain": [
       "RandomizedSearchCV(cv=5,\n",
       "                   estimator=RandomForestRegressor(n_estimators=10,\n",
       "                                                   random_state=1111),\n",
       "                   param_distributions={'max_depth': [2, 4, 6, 8],\n",
       "                                        'max_features': [2, 4, 6, 8, 10],\n",
       "                                        'min_samples_split': [2, 4, 8, 16]},\n",
       "                   scoring=make_scorer(mean_squared_error))"
      ]
     },
     "execution_count": 18,
     "metadata": {},
     "output_type": "execute_result"
    }
   ],
   "source": [
    "random_search.fit(X, y)"
   ]
  },
  {
   "cell_type": "code",
   "execution_count": 20,
   "id": "5af3dc45",
   "metadata": {},
   "outputs": [
    {
     "data": {
      "text/plain": [
       "({'min_samples_split': 16, 'max_features': 2, 'max_depth': 2},\n",
       " 157.10958128701108)"
      ]
     },
     "execution_count": 20,
     "metadata": {},
     "output_type": "execute_result"
    }
   ],
   "source": [
    "random_search.best_params_, random_search.best_score_"
   ]
  },
  {
   "cell_type": "code",
   "execution_count": 21,
   "id": "5918c05c",
   "metadata": {
    "scrolled": true
   },
   "outputs": [
    {
     "data": {
      "text/plain": [
       "{'mean_fit_time': array([0.01565943, 0.01094456, 0.01149735, 0.01094909, 0.01079063,\n",
       "        0.01075001, 0.0105875 , 0.01065345, 0.01175961, 0.01089182]),\n",
       " 'std_fit_time': array([4.44095528e-03, 3.79393752e-04, 1.05372224e-03, 1.25651468e-04,\n",
       "        1.40653577e-04, 9.58994569e-05, 1.39963720e-04, 8.39415444e-05,\n",
       "        1.41356061e-03, 4.20329659e-04]),\n",
       " 'mean_score_time': array([0.00165858, 0.00128841, 0.00156598, 0.00127311, 0.00131054,\n",
       "        0.00128212, 0.00127597, 0.00130119, 0.00127263, 0.00136533]),\n",
       " 'std_score_time': array([3.75253957e-04, 4.74276821e-05, 3.35578174e-04, 2.68736556e-05,\n",
       "        4.86722989e-05, 5.24151412e-05, 4.43613374e-05, 8.44961095e-05,\n",
       "        3.14674231e-05, 9.68088181e-05]),\n",
       " 'param_min_samples_split': masked_array(data=[2, 16, 16, 4, 8, 2, 8, 2, 2, 8],\n",
       "              mask=[False, False, False, False, False, False, False, False,\n",
       "                    False, False],\n",
       "        fill_value='?',\n",
       "             dtype=object),\n",
       " 'param_max_features': masked_array(data=[8, 4, 2, 8, 4, 4, 2, 6, 6, 6],\n",
       "              mask=[False, False, False, False, False, False, False, False,\n",
       "                    False, False],\n",
       "        fill_value='?',\n",
       "             dtype=object),\n",
       " 'param_max_depth': masked_array(data=[8, 6, 2, 6, 6, 6, 2, 4, 2, 6],\n",
       "              mask=[False, False, False, False, False, False, False, False,\n",
       "                    False, False],\n",
       "        fill_value='?',\n",
       "             dtype=object),\n",
       " 'params': [{'min_samples_split': 2, 'max_features': 8, 'max_depth': 8},\n",
       "  {'min_samples_split': 16, 'max_features': 4, 'max_depth': 6},\n",
       "  {'min_samples_split': 16, 'max_features': 2, 'max_depth': 2},\n",
       "  {'min_samples_split': 4, 'max_features': 8, 'max_depth': 6},\n",
       "  {'min_samples_split': 8, 'max_features': 4, 'max_depth': 6},\n",
       "  {'min_samples_split': 2, 'max_features': 4, 'max_depth': 6},\n",
       "  {'min_samples_split': 8, 'max_features': 2, 'max_depth': 2},\n",
       "  {'min_samples_split': 2, 'max_features': 6, 'max_depth': 4},\n",
       "  {'min_samples_split': 2, 'max_features': 6, 'max_depth': 2},\n",
       "  {'min_samples_split': 8, 'max_features': 6, 'max_depth': 6}],\n",
       " 'split0_test_score': array([177.69648788, 152.51420726, 165.18739337, 169.43159598,\n",
       "        155.85436669, 156.2395444 , 159.1247036 , 140.81305131,\n",
       "        128.85227761, 158.29554009]),\n",
       " 'split1_test_score': array([113.16834332, 114.61976145,  93.60945002, 110.83063898,\n",
       "        106.57909617, 128.07664559,  89.27651711,  78.55309117,\n",
       "         83.80888708,  90.84719309]),\n",
       " 'split2_test_score': array([ 90.6172139 ,  88.64256945, 100.04864127,  71.15209907,\n",
       "         90.93156835,  74.25217495,  93.64857928,  64.08594927,\n",
       "         64.16633654,  60.38570494]),\n",
       " 'split3_test_score': array([190.32679738, 267.29934899, 282.58320484, 197.41678805,\n",
       "        242.08948579, 252.81814051, 283.96918828, 215.94887135,\n",
       "        246.00363672, 223.17701866]),\n",
       " 'split4_test_score': array([146.57984579, 124.0774594 , 144.11921694, 133.32897276,\n",
       "        124.60026159, 111.80313523, 142.74598408, 127.41622115,\n",
       "        142.74270817, 131.40196442]),\n",
       " 'mean_test_score': array([143.67773765, 149.43066931, 157.10958129, 136.43201897,\n",
       "        144.01095572, 144.63792813, 153.75299447, 125.36343685,\n",
       "        133.11476923, 132.82148424]),\n",
       " 'std_test_score': array([37.65122759, 62.37357052, 68.2141457 , 44.12401078, 53.58172256,\n",
       "        60.23970419, 70.535131  , 53.65587461, 63.30832304, 56.25628569]),\n",
       " 'rank_test_score': array([ 6,  3,  1,  7,  5,  4,  2, 10,  8,  9], dtype=int32)}"
      ]
     },
     "execution_count": 21,
     "metadata": {},
     "output_type": "execute_result"
    }
   ],
   "source": [
    "random_search.cv_results_"
   ]
  },
  {
   "cell_type": "code",
   "execution_count": 24,
   "id": "5e111f28",
   "metadata": {},
   "outputs": [
    {
     "data": {
      "text/html": [
       "<div>\n",
       "<style scoped>\n",
       "    .dataframe tbody tr th:only-of-type {\n",
       "        vertical-align: middle;\n",
       "    }\n",
       "\n",
       "    .dataframe tbody tr th {\n",
       "        vertical-align: top;\n",
       "    }\n",
       "\n",
       "    .dataframe thead th {\n",
       "        text-align: right;\n",
       "    }\n",
       "</style>\n",
       "<table border=\"1\" class=\"dataframe\">\n",
       "  <thead>\n",
       "    <tr style=\"text-align: right;\">\n",
       "      <th></th>\n",
       "      <th>Score</th>\n",
       "    </tr>\n",
       "    <tr>\n",
       "      <th>Max Depth</th>\n",
       "      <th></th>\n",
       "    </tr>\n",
       "  </thead>\n",
       "  <tbody>\n",
       "    <tr>\n",
       "      <th>2.0</th>\n",
       "      <td>147.992448</td>\n",
       "    </tr>\n",
       "    <tr>\n",
       "      <th>4.0</th>\n",
       "      <td>125.363437</td>\n",
       "    </tr>\n",
       "    <tr>\n",
       "      <th>6.0</th>\n",
       "      <td>141.466611</td>\n",
       "    </tr>\n",
       "    <tr>\n",
       "      <th>8.0</th>\n",
       "      <td>143.677738</td>\n",
       "    </tr>\n",
       "  </tbody>\n",
       "</table>\n",
       "</div>"
      ],
      "text/plain": [
       "                Score\n",
       "Max Depth            \n",
       "2.0        147.992448\n",
       "4.0        125.363437\n",
       "6.0        141.466611\n",
       "8.0        143.677738"
      ]
     },
     "execution_count": 24,
     "metadata": {},
     "output_type": "execute_result"
    }
   ],
   "source": [
    "max_depth = [item['max_depth'] for item in random_search.cv_results_['params']]\n",
    "scores = list(random_search.cv_results_['mean_test_score'])\n",
    "d = pd.DataFrame([max_depth, scores]).T\n",
    "d.columns = ['Max Depth', 'Score']\n",
    "d.groupby(['Max Depth']).mean()"
   ]
  },
  {
   "cell_type": "markdown",
   "id": "b8ce2d5e",
   "metadata": {},
   "source": [
    "## Using RandomedSearchCv with Classification problems"
   ]
  },
  {
   "cell_type": "markdown",
   "id": "fa8906f7",
   "metadata": {},
   "source": [
    "### Selecting the best precision model\n",
    "\n",
    "Your boss has offered to pay for you to see three sports games this year. Of the 41 home games your favorite team plays, you want to ensure you go to three home games that they will definitely win. You build a model to decide which games your team will win.\n",
    "\n",
    "To do this, you will build a random search algorithm and focus on model precision (to ensure your team wins). You also want to keep track of your best model and best parameters, so that you can use them again next year (if the model does well, of course). You have already decided on using the random forest classification model rfc and generated a parameter distribution param_dist.\n",
    "- Instructions\n",
    "\n",
    "    - Create a precision scorer, precision using make_scorer(<scoring_function>).\n",
    "    - Complete the random search method by using rfc and param_dist.\n",
    "    - Use rs.cv_results_ to print the mean test scores.\n",
    "    - Print the best overall score.\n"
   ]
  },
  {
   "cell_type": "code",
   "execution_count": 28,
   "id": "77b5aa17",
   "metadata": {},
   "outputs": [
    {
     "data": {
      "text/html": [
       "<div>\n",
       "<style scoped>\n",
       "    .dataframe tbody tr th:only-of-type {\n",
       "        vertical-align: middle;\n",
       "    }\n",
       "\n",
       "    .dataframe tbody tr th {\n",
       "        vertical-align: top;\n",
       "    }\n",
       "\n",
       "    .dataframe thead th {\n",
       "        text-align: right;\n",
       "    }\n",
       "</style>\n",
       "<table border=\"1\" class=\"dataframe\">\n",
       "  <thead>\n",
       "    <tr style=\"text-align: right;\">\n",
       "      <th></th>\n",
       "      <th>Top-Left</th>\n",
       "      <th>Top-Middle</th>\n",
       "      <th>Top-Right</th>\n",
       "      <th>Middle-Left</th>\n",
       "      <th>Middle-Middle</th>\n",
       "      <th>Middle-Right</th>\n",
       "      <th>Bottom-Left</th>\n",
       "      <th>Bottom-Middle</th>\n",
       "      <th>Bottom-Right</th>\n",
       "      <th>Class</th>\n",
       "    </tr>\n",
       "  </thead>\n",
       "  <tbody>\n",
       "    <tr>\n",
       "      <th>0</th>\n",
       "      <td>x</td>\n",
       "      <td>x</td>\n",
       "      <td>x</td>\n",
       "      <td>x</td>\n",
       "      <td>o</td>\n",
       "      <td>o</td>\n",
       "      <td>x</td>\n",
       "      <td>o</td>\n",
       "      <td>o</td>\n",
       "      <td>positive</td>\n",
       "    </tr>\n",
       "    <tr>\n",
       "      <th>1</th>\n",
       "      <td>x</td>\n",
       "      <td>x</td>\n",
       "      <td>x</td>\n",
       "      <td>x</td>\n",
       "      <td>o</td>\n",
       "      <td>o</td>\n",
       "      <td>o</td>\n",
       "      <td>x</td>\n",
       "      <td>o</td>\n",
       "      <td>positive</td>\n",
       "    </tr>\n",
       "    <tr>\n",
       "      <th>2</th>\n",
       "      <td>x</td>\n",
       "      <td>x</td>\n",
       "      <td>x</td>\n",
       "      <td>x</td>\n",
       "      <td>o</td>\n",
       "      <td>o</td>\n",
       "      <td>o</td>\n",
       "      <td>o</td>\n",
       "      <td>x</td>\n",
       "      <td>positive</td>\n",
       "    </tr>\n",
       "    <tr>\n",
       "      <th>3</th>\n",
       "      <td>x</td>\n",
       "      <td>x</td>\n",
       "      <td>x</td>\n",
       "      <td>x</td>\n",
       "      <td>o</td>\n",
       "      <td>o</td>\n",
       "      <td>o</td>\n",
       "      <td>b</td>\n",
       "      <td>b</td>\n",
       "      <td>positive</td>\n",
       "    </tr>\n",
       "    <tr>\n",
       "      <th>4</th>\n",
       "      <td>x</td>\n",
       "      <td>x</td>\n",
       "      <td>x</td>\n",
       "      <td>x</td>\n",
       "      <td>o</td>\n",
       "      <td>o</td>\n",
       "      <td>b</td>\n",
       "      <td>o</td>\n",
       "      <td>b</td>\n",
       "      <td>positive</td>\n",
       "    </tr>\n",
       "  </tbody>\n",
       "</table>\n",
       "</div>"
      ],
      "text/plain": [
       "  Top-Left Top-Middle Top-Right Middle-Left Middle-Middle Middle-Right  \\\n",
       "0        x          x         x           x             o            o   \n",
       "1        x          x         x           x             o            o   \n",
       "2        x          x         x           x             o            o   \n",
       "3        x          x         x           x             o            o   \n",
       "4        x          x         x           x             o            o   \n",
       "\n",
       "  Bottom-Left Bottom-Middle Bottom-Right     Class  \n",
       "0           x             o            o  positive  \n",
       "1           o             x            o  positive  \n",
       "2           o             o            x  positive  \n",
       "3           o             b            b  positive  \n",
       "4           b             o            b  positive  "
      ]
     },
     "execution_count": 28,
     "metadata": {},
     "output_type": "execute_result"
    }
   ],
   "source": [
    "tic_tac = pd.read_csv('../tic-tac-toe.csv')\n",
    "tic_tac.head()"
   ]
  },
  {
   "cell_type": "code",
   "execution_count": 29,
   "id": "e97057e1",
   "metadata": {},
   "outputs": [],
   "source": [
    "tic_tac['Class'] = tic_tac['Class'].map({\n",
    "    'positive':1,\n",
    "    'negative':0\n",
    "})"
   ]
  },
  {
   "cell_type": "code",
   "execution_count": 30,
   "id": "97bdfee2",
   "metadata": {},
   "outputs": [],
   "source": [
    " # Create dummy variables using pandas\n",
    "X = pd.get_dummies(tic_tac.iloc[:,0:9])\n",
    "y = tic_tac.iloc[:, 9]"
   ]
  },
  {
   "cell_type": "code",
   "execution_count": 31,
   "id": "fe1f5697",
   "metadata": {},
   "outputs": [],
   "source": [
    "from sklearn.ensemble import RandomForestClassifier\n",
    "\n",
    "rfc = RandomForestClassifier(random_state=1111)\n",
    "\n",
    "param_dist = {'max_depth': range(2, 12, 2),\n",
    "             'min_samples_split': range(2, 12, 2),\n",
    "             'n_estimators': [10, 25, 50]}\n"
   ]
  },
  {
   "cell_type": "code",
   "execution_count": 33,
   "id": "b9acc3d1",
   "metadata": {},
   "outputs": [
    {
     "name": "stdout",
     "output_type": "stream",
     "text": [
      "The accuracy for each run was: [0.87614978 0.75561877 0.67740077 0.89141614 0.87024051 0.85772772\n",
      " 0.68244199 0.82867397 0.88717239 0.91980724].\n",
      "\n",
      "\n",
      "The best accuracy for a single model was: 0.9198072369317106\n"
     ]
    }
   ],
   "source": [
    "from sklearn.metrics import precision_score, make_scorer\n",
    "\n",
    "# Create a precision scorer\n",
    "precision = make_scorer(precision_score)\n",
    "# Finalize the random search\n",
    "rs = RandomizedSearchCV(\n",
    "  estimator=rfc, param_distributions=param_dist,\n",
    "  scoring = precision,\n",
    "  cv=5, n_iter=10, random_state=1111)\n",
    "rs.fit(X, y)\n",
    "\n",
    "# print the mean test scores:\n",
    "print('The accuracy for each run was: {}.'.format(rs.cv_results_['mean_test_score']))\n",
    "\n",
    "print('\\n')\n",
    "# print the best model score:\n",
    "print('The best accuracy for a single model was: {}'.format(rs.best_score_))"
   ]
  },
  {
   "cell_type": "code",
   "execution_count": null,
   "id": "d8de539a",
   "metadata": {},
   "outputs": [],
   "source": []
  },
  {
   "cell_type": "code",
   "execution_count": null,
   "id": "b85b1e80",
   "metadata": {},
   "outputs": [],
   "source": []
  },
  {
   "cell_type": "code",
   "execution_count": null,
   "id": "82080c7c",
   "metadata": {},
   "outputs": [],
   "source": []
  },
  {
   "cell_type": "code",
   "execution_count": null,
   "id": "3217ddcd",
   "metadata": {},
   "outputs": [],
   "source": []
  },
  {
   "cell_type": "code",
   "execution_count": null,
   "id": "5793278f",
   "metadata": {},
   "outputs": [],
   "source": []
  },
  {
   "cell_type": "code",
   "execution_count": null,
   "id": "f467c280",
   "metadata": {},
   "outputs": [],
   "source": []
  },
  {
   "cell_type": "code",
   "execution_count": null,
   "id": "46137721",
   "metadata": {},
   "outputs": [],
   "source": []
  },
  {
   "cell_type": "code",
   "execution_count": null,
   "id": "e3c83d00",
   "metadata": {},
   "outputs": [],
   "source": []
  }
 ],
 "metadata": {
  "kernelspec": {
   "display_name": "Python 3 (ipykernel)",
   "language": "python",
   "name": "python3"
  },
  "language_info": {
   "codemirror_mode": {
    "name": "ipython",
    "version": 3
   },
   "file_extension": ".py",
   "mimetype": "text/x-python",
   "name": "python",
   "nbconvert_exporter": "python",
   "pygments_lexer": "ipython3",
   "version": "3.8.10"
  }
 },
 "nbformat": 4,
 "nbformat_minor": 5
}
