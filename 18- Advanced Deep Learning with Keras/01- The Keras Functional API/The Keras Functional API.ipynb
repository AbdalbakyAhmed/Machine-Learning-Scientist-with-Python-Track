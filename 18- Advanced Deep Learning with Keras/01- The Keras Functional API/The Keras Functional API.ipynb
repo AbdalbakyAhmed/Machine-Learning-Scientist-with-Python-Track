{
 "cells": [
  {
   "cell_type": "code",
   "execution_count": 1,
   "id": "0a37aa24",
   "metadata": {
    "collapsed": true
   },
   "outputs": [
    {
     "name": "stderr",
     "output_type": "stream",
     "text": [
      "2021-12-19 00:34:03.479119: W tensorflow/stream_executor/platform/default/dso_loader.cc:64] Could not load dynamic library 'libcudart.so.11.0'; dlerror: libcudart.so.11.0: cannot open shared object file: No such file or directory\n",
      "2021-12-19 00:34:03.479158: I tensorflow/stream_executor/cuda/cudart_stub.cc:29] Ignore above cudart dlerror if you do not have a GPU set up on your machine.\n"
     ]
    }
   ],
   "source": [
    "from tensorflow import keras"
   ]
  },
  {
   "cell_type": "markdown",
   "id": "b017fb72",
   "metadata": {},
   "source": [
    "### Build a model\n",
    "\n",
    "Once you've defined an input layer and an output layer, you can build a Keras model. The model object is how you tell Keras where the model starts and stops: where data comes in and where predictions come out.\n",
    "\n",
    "* Instructions\n",
    "\n",
    "    * Import Model from keras.models to create a keras model.\n",
    "    * Use the input layer and output layer you already defined as the model's input and output.\n"
   ]
  },
  {
   "cell_type": "code",
   "execution_count": 2,
   "id": "961b8502",
   "metadata": {
    "collapsed": true
   },
   "outputs": [
    {
     "name": "stderr",
     "output_type": "stream",
     "text": [
      "2021-12-19 00:34:04.950306: W tensorflow/stream_executor/platform/default/dso_loader.cc:64] Could not load dynamic library 'libcuda.so.1'; dlerror: libcuda.so.1: cannot open shared object file: No such file or directory\n",
      "2021-12-19 00:34:04.950344: W tensorflow/stream_executor/cuda/cuda_driver.cc:326] failed call to cuInit: UNKNOWN ERROR (303)\n",
      "2021-12-19 00:34:04.950374: I tensorflow/stream_executor/cuda/cuda_diagnostics.cc:156] kernel driver does not appear to be running on this host (Rabie): /proc/driver/nvidia/version does not exist\n",
      "2021-12-19 00:34:04.950603: I tensorflow/core/platform/cpu_feature_guard.cc:142] This TensorFlow binary is optimized with oneAPI Deep Neural Network Library (oneDNN) to use the following CPU instructions in performance-critical operations:  AVX2 FMA\n",
      "To enable them in other operations, rebuild TensorFlow with the appropriate compiler flags.\n"
     ]
    }
   ],
   "source": [
    "# Input/dense/output layers\n",
    "from keras.layers import Input, Dense\n",
    "input_tensor = Input(shape=(1,))\n",
    "output_tensor = Dense(1)(input_tensor)\n",
    "\n",
    "# Build the model\n",
    "from keras.models import Model\n",
    "model = Model(input_tensor, output_tensor)"
   ]
  },
  {
   "cell_type": "code",
   "execution_count": 3,
   "id": "d69208df",
   "metadata": {},
   "outputs": [],
   "source": [
    "# Compile the model\n",
    "model.compile(optimizer='adam', loss='mean_absolute_error')"
   ]
  },
  {
   "cell_type": "markdown",
   "id": "aee58ba9",
   "metadata": {},
   "source": [
    "### Visualize a model\n",
    "\n",
    "Now that you've compiled the model, take a look a the result of your hard work! You can do this by looking at the model summary, as well as its plot.\n",
    "\n",
    "The summary will tell you the names of the layers, as well as how many units they have and how many parameters are in the model.\n",
    "\n",
    "The plot will show how the layers connect to each other.\n",
    "\n",
    "* Instructions\n",
    "\n",
    "    * Summarize the model.\n",
    "    * Plot the model.\n"
   ]
  },
  {
   "cell_type": "code",
   "execution_count": 4,
   "id": "610cb47f",
   "metadata": {},
   "outputs": [],
   "source": [
    "import os\n",
    "same_path = os.path.abspath(os.getcwd())"
   ]
  },
  {
   "cell_type": "code",
   "execution_count": 6,
   "id": "9f4328d8",
   "metadata": {},
   "outputs": [
    {
     "name": "stdout",
     "output_type": "stream",
     "text": [
      "Model: \"model\"\n",
      "_________________________________________________________________\n",
      "Layer (type)                 Output Shape              Param #   \n",
      "=================================================================\n",
      "input_1 (InputLayer)         [(None, 1)]               0         \n",
      "_________________________________________________________________\n",
      "dense (Dense)                (None, 1)                 2         \n",
      "=================================================================\n",
      "Total params: 2\n",
      "Trainable params: 2\n",
      "Non-trainable params: 0\n",
      "_________________________________________________________________\n"
     ]
    },
    {
     "data": {
      "image/png": "[encoded data removed]",
      "text/plain": [
       "<Figure size 432x288 with 1 Axes>"
      ]
     },
     "metadata": {
      "needs_background": "light"
     },
     "output_type": "display_data"
    }
   ],
   "source": [
    "# Import the plotting function\n",
    "from keras.utils.vis_utils import plot_model\n",
    "import matplotlib.pyplot as plt\n",
    "\n",
    "# Summarize the model\n",
    "model.summary()\n",
    "\n",
    "# Plot the model\n",
    "plot_model(model, to_file=same_path+'/model.png')\n",
    "\n",
    "# Display the image\n",
    "data = plt.imread('model.png')\n",
    "plt.imshow(data)\n",
    "plt.show()"
   ]
  },
  {
   "cell_type": "markdown",
   "id": "8050b2f6",
   "metadata": {},
   "source": [
    "### Fit the model to the tournament basketball data\n",
    "\n",
    "Now that the model is compiled, you are ready to fit it to some data!\n",
    "\n",
    "In this exercise, you'll use a dataset of scores from US College Basketball tournament games. Each row of the dataset has the team ids: team_1 and team_2, as integers. It also has the seed difference between the teams (seeds are assigned by the tournament committee and represent a ranking of how strong the teams are) and the score difference of the game (e.g. if team_1 wins by 5 points, the score difference is 5).\n",
    "\n",
    "To fit the model, you provide a matrix of X variables (in this case one column: the seed difference) and a matrix of Y variables (in this case one column: the score difference).\n",
    "\n",
    "The games_tourney DataFrame along with the compiled model object is available in your workspace.\n",
    "* Instructions\n",
    "\n",
    "    * Fit the model with seed_diff as the input variable and score_diff as the output variable.\n",
    "    * Use 1 epoch, a batch size of 128, and a 10% validation split.\n"
   ]
  },
  {
   "cell_type": "code",
   "execution_count": 8,
   "id": "59dd855f",
   "metadata": {},
   "outputs": [],
   "source": [
    "import pandas as pd\n",
    "from sklearn.model_selection import train_test_split"
   ]
  },
  {
   "cell_type": "code",
   "execution_count": 9,
   "id": "784fc290",
   "metadata": {},
   "outputs": [
    {
     "data": {
      "text/plain": [
       "(4234, 9)"
      ]
     },
     "execution_count": 9,
     "metadata": {},
     "output_type": "execute_result"
    }
   ],
   "source": [
    "games_tourney = pd.read_csv('../basketball_data/games_tourney.csv')\n",
    "games_tourney.shape"
   ]
  },
  {
   "cell_type": "code",
   "execution_count": 11,
   "id": "196936aa",
   "metadata": {},
   "outputs": [],
   "source": [
    "games_tourney_train, games_tourney_test = train_test_split(games_tourney,\\\n",
    "                                                           train_size=0.8, \\\n",
    "                                                           random_state=123)"
   ]
  },
  {
   "cell_type": "code",
   "execution_count": null,
   "id": "f9705427",
   "metadata": {},
   "outputs": [],
   "source": []
  },
  {
   "cell_type": "code",
   "execution_count": null,
   "id": "15e1f851",
   "metadata": {},
   "outputs": [],
   "source": []
  },
  {
   "cell_type": "code",
   "execution_count": 15,
   "id": "ddc81681",
   "metadata": {},
   "outputs": [
    {
     "name": "stdout",
     "output_type": "stream",
     "text": [
      "24/24 [==============================] - 0s 3ms/step - loss: 11.8401 - val_loss: 11.7667\n"
     ]
    },
    {
     "data": {
      "text/plain": [
       "<keras.callbacks.History at 0x7f8f2aee6040>"
      ]
     },
     "execution_count": 15,
     "metadata": {},
     "output_type": "execute_result"
    }
   ],
   "source": [
    "model.fit(games_tourney_train['seed_diff'], games_tourney_train['score_diff'],\n",
    "          epochs=1,\n",
    "          batch_size=128,\n",
    "          validation_split=0.1,\n",
    "          verbose=True)"
   ]
  },
  {
   "cell_type": "markdown",
   "id": "06a012d8",
   "metadata": {},
   "source": [
    "### Evaluate the model on a test set\n",
    "\n",
    "After fitting the model, you can evaluate it on new data. You will give the model a new X matrix (also called test data), allow it to make predictions, and then compare to the known y variable (also called target data).\n",
    "\n",
    "In this case, you'll use data from the post-season tournament to evaluate your model. The tournament games happen after the regular season games you used to train our model, and are therefore a good evaluation of how well your model performs out-of-sample.\n",
    "\n",
    "The games_tourney_test DataFrame along with the fitted model object is available in your workspace.\n",
    "* Instructions\n",
    "\n",
    "    * Assign the test data (seed_diff column) to X_test.\n",
    "    * Assign the target data (score_diff column) to y_test.\n",
    "    * Evaluate the model on X_test and y_test.\n",
    "\n"
   ]
  },
  {
   "cell_type": "code",
   "execution_count": 17,
   "id": "3ba5ef1d",
   "metadata": {},
   "outputs": [
    {
     "name": "stdout",
     "output_type": "stream",
     "text": [
      "27/27 [==============================] - 0s 1ms/step - loss: 12.5581\n",
      "12.558080673217773\n"
     ]
    }
   ],
   "source": [
    "# Load the X variable from the test data\n",
    "X_test = games_tourney_test['seed_diff']\n",
    "\n",
    "# Load the y variable from the test data\n",
    "y_test = games_tourney_test['score_diff']\n",
    "\n",
    "# Evaluate the model on the test data\n",
    "print(model.evaluate(X_test,y_test, verbose=True))"
   ]
  },
  {
   "cell_type": "code",
   "execution_count": null,
   "id": "7d288c4a",
   "metadata": {},
   "outputs": [],
   "source": []
  },
  {
   "cell_type": "code",
   "execution_count": null,
   "id": "de807d31",
   "metadata": {},
   "outputs": [],
   "source": []
  }
 ],
 "metadata": {
  "kernelspec": {
   "display_name": "Python 3 (ipykernel)",
   "language": "python",
   "name": "python3"
  },
  "language_info": {
   "codemirror_mode": {
    "name": "ipython",
    "version": 3
   },
   "file_extension": ".py",
   "mimetype": "text/x-python",
   "name": "python",
   "nbconvert_exporter": "python",
   "pygments_lexer": "ipython3",
   "version": "3.8.10"
  }
 },
 "nbformat": 4,
 "nbformat_minor": 5
}
