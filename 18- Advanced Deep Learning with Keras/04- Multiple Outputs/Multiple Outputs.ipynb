{
 "cells": [
  {
   "cell_type": "markdown",
   "id": "5b13a7c5",
   "metadata": {},
   "source": [
    "### Simple two-output model\n",
    "\n",
    "In this exercise, you will use the tournament data to build one model that makes two predictions: the scores of both teams in a given game. Your inputs will be the seed difference of the two teams, as well as the predicted score difference from the model you built in chapter 3.\n",
    "\n",
    "The output from your model will be the predicted score for team 1 as well as team 2. This is called \"multiple target regression\": one model making more than one prediction."
   ]
  },
  {
   "cell_type": "code",
   "execution_count": 6,
   "id": "5bedcbbf",
   "metadata": {},
   "outputs": [],
   "source": [
    "from tensorflow.keras.layers import Input, Dense\n",
    "from tensorflow.keras import Model\n",
    "import tensorflow as tf\n",
    "import pandas as pd\n",
    "import numpy as np"
   ]
  },
  {
   "cell_type": "code",
   "execution_count": 8,
   "id": "c03bf5aa",
   "metadata": {},
   "outputs": [],
   "source": [
    "from sklearn.model_selection import train_test_split"
   ]
  },
  {
   "cell_type": "code",
   "execution_count": 14,
   "id": "132da2b1",
   "metadata": {},
   "outputs": [],
   "source": [
    "games_tourney = pd.read_csv('../basketball_data/games_season_enriched.csv')"
   ]
  },
  {
   "cell_type": "code",
   "execution_count": 21,
   "id": "4bba7266",
   "metadata": {},
   "outputs": [],
   "source": [
    "games_tourney_train, games_tourney_test = train_test_split(games_tourney, train_size=0.7,\\\n",
    "                                                          random_state=123)"
   ]
  },
  {
   "cell_type": "code",
   "execution_count": 22,
   "id": "327c7abe",
   "metadata": {},
   "outputs": [
    {
     "data": {
      "text/html": [
       "<div>\n",
       "<style scoped>\n",
       "    .dataframe tbody tr th:only-of-type {\n",
       "        vertical-align: middle;\n",
       "    }\n",
       "\n",
       "    .dataframe tbody tr th {\n",
       "        vertical-align: top;\n",
       "    }\n",
       "\n",
       "    .dataframe thead th {\n",
       "        text-align: right;\n",
       "    }\n",
       "</style>\n",
       "<table border=\"1\" class=\"dataframe\">\n",
       "  <thead>\n",
       "    <tr style=\"text-align: right;\">\n",
       "      <th></th>\n",
       "      <th>season</th>\n",
       "      <th>team_1</th>\n",
       "      <th>team_2</th>\n",
       "      <th>home</th>\n",
       "      <th>seed_diff</th>\n",
       "      <th>score_diff</th>\n",
       "      <th>score_1</th>\n",
       "      <th>score_2</th>\n",
       "      <th>won</th>\n",
       "      <th>pred</th>\n",
       "    </tr>\n",
       "  </thead>\n",
       "  <tbody>\n",
       "    <tr>\n",
       "      <th>0</th>\n",
       "      <td>1985</td>\n",
       "      <td>288</td>\n",
       "      <td>73</td>\n",
       "      <td>0</td>\n",
       "      <td>-3</td>\n",
       "      <td>-9</td>\n",
       "      <td>41</td>\n",
       "      <td>50</td>\n",
       "      <td>0</td>\n",
       "      <td>-3.601452</td>\n",
       "    </tr>\n",
       "    <tr>\n",
       "      <th>1</th>\n",
       "      <td>1985</td>\n",
       "      <td>5929</td>\n",
       "      <td>73</td>\n",
       "      <td>0</td>\n",
       "      <td>4</td>\n",
       "      <td>6</td>\n",
       "      <td>61</td>\n",
       "      <td>55</td>\n",
       "      <td>1</td>\n",
       "      <td>0.474164</td>\n",
       "    </tr>\n",
       "    <tr>\n",
       "      <th>2</th>\n",
       "      <td>1985</td>\n",
       "      <td>9884</td>\n",
       "      <td>73</td>\n",
       "      <td>0</td>\n",
       "      <td>5</td>\n",
       "      <td>-4</td>\n",
       "      <td>59</td>\n",
       "      <td>63</td>\n",
       "      <td>0</td>\n",
       "      <td>-0.414316</td>\n",
       "    </tr>\n",
       "    <tr>\n",
       "      <th>3</th>\n",
       "      <td>1985</td>\n",
       "      <td>73</td>\n",
       "      <td>288</td>\n",
       "      <td>0</td>\n",
       "      <td>3</td>\n",
       "      <td>9</td>\n",
       "      <td>50</td>\n",
       "      <td>41</td>\n",
       "      <td>1</td>\n",
       "      <td>3.601452</td>\n",
       "    </tr>\n",
       "    <tr>\n",
       "      <th>4</th>\n",
       "      <td>1985</td>\n",
       "      <td>3920</td>\n",
       "      <td>410</td>\n",
       "      <td>0</td>\n",
       "      <td>1</td>\n",
       "      <td>-9</td>\n",
       "      <td>54</td>\n",
       "      <td>63</td>\n",
       "      <td>0</td>\n",
       "      <td>8.176179</td>\n",
       "    </tr>\n",
       "  </tbody>\n",
       "</table>\n",
       "</div>"
      ],
      "text/plain": [
       "   season  team_1  team_2  home  seed_diff  score_diff  score_1  score_2  won  \\\n",
       "0    1985     288      73     0         -3          -9       41       50    0   \n",
       "1    1985    5929      73     0          4           6       61       55    1   \n",
       "2    1985    9884      73     0          5          -4       59       63    0   \n",
       "3    1985      73     288     0          3           9       50       41    1   \n",
       "4    1985    3920     410     0          1          -9       54       63    0   \n",
       "\n",
       "       pred  \n",
       "0 -3.601452  \n",
       "1  0.474164  \n",
       "2 -0.414316  \n",
       "3  3.601452  \n",
       "4  8.176179  "
      ]
     },
     "execution_count": 22,
     "metadata": {},
     "output_type": "execute_result"
    }
   ],
   "source": [
    "games_tourney.head()"
   ]
  },
  {
   "cell_type": "code",
   "execution_count": 23,
   "id": "34a82963",
   "metadata": {},
   "outputs": [],
   "source": [
    "# Define the input\n",
    "input_tensor = Input(shape=(2,))\n",
    "\n",
    "# Define the output\n",
    "output_tensor = Dense(2)(input_tensor)\n",
    "\n",
    "# Create a model\n",
    "model = Model(input_tensor, output_tensor)\n",
    "\n",
    "# Compile the model\n",
    "model.compile(loss='mean_absolute_error', optimizer='adam')"
   ]
  },
  {
   "cell_type": "code",
   "execution_count": 24,
   "id": "cb154415",
   "metadata": {},
   "outputs": [
    {
     "name": "stdout",
     "output_type": "stream",
     "text": [
      "Epoch 1/100\n",
      "1/1 [==============================] - 0s 200ms/step - loss: 71.1538\n",
      "Epoch 2/100\n",
      "1/1 [==============================] - 0s 8ms/step - loss: 71.1527\n",
      "Epoch 3/100\n",
      "1/1 [==============================] - 0s 14ms/step - loss: 71.1516\n",
      "Epoch 4/100\n",
      "1/1 [==============================] - 0s 6ms/step - loss: 71.1505\n",
      "Epoch 5/100\n",
      "1/1 [==============================] - 0s 6ms/step - loss: 71.1494\n",
      "Epoch 6/100\n",
      "1/1 [==============================] - 0s 3ms/step - loss: 71.1483\n",
      "Epoch 7/100\n",
      "1/1 [==============================] - 0s 9ms/step - loss: 71.1472\n",
      "Epoch 8/100\n",
      "1/1 [==============================] - 0s 9ms/step - loss: 71.1461\n",
      "Epoch 9/100\n",
      "1/1 [==============================] - 0s 3ms/step - loss: 71.1450\n",
      "Epoch 10/100\n",
      "1/1 [==============================] - 0s 3ms/step - loss: 71.1439\n",
      "Epoch 11/100\n",
      "1/1 [==============================] - 0s 13ms/step - loss: 71.1428\n",
      "Epoch 12/100\n",
      "1/1 [==============================] - 0s 7ms/step - loss: 71.1417\n",
      "Epoch 13/100\n",
      "1/1 [==============================] - 0s 4ms/step - loss: 71.1406\n",
      "Epoch 14/100\n",
      "1/1 [==============================] - 0s 9ms/step - loss: 71.1395\n",
      "Epoch 15/100\n",
      "1/1 [==============================] - 0s 8ms/step - loss: 71.1384\n",
      "Epoch 16/100\n",
      "1/1 [==============================] - 0s 8ms/step - loss: 71.1373\n",
      "Epoch 17/100\n",
      "1/1 [==============================] - 0s 6ms/step - loss: 71.1361\n",
      "Epoch 18/100\n",
      "1/1 [==============================] - 0s 4ms/step - loss: 71.1350\n",
      "Epoch 19/100\n",
      "1/1 [==============================] - 0s 8ms/step - loss: 71.1339\n",
      "Epoch 20/100\n",
      "1/1 [==============================] - 0s 6ms/step - loss: 71.1328\n",
      "Epoch 21/100\n",
      "1/1 [==============================] - 0s 11ms/step - loss: 71.1317\n",
      "Epoch 22/100\n",
      "1/1 [==============================] - 0s 5ms/step - loss: 71.1306\n",
      "Epoch 23/100\n",
      "1/1 [==============================] - 0s 11ms/step - loss: 71.1295\n",
      "Epoch 24/100\n",
      "1/1 [==============================] - 0s 4ms/step - loss: 71.1284\n",
      "Epoch 25/100\n",
      "1/1 [==============================] - 0s 10ms/step - loss: 71.1273\n",
      "Epoch 26/100\n",
      "1/1 [==============================] - 0s 7ms/step - loss: 71.1262\n",
      "Epoch 27/100\n",
      "1/1 [==============================] - 0s 7ms/step - loss: 71.1251\n",
      "Epoch 28/100\n",
      "1/1 [==============================] - 0s 7ms/step - loss: 71.1240\n",
      "Epoch 29/100\n",
      "1/1 [==============================] - 0s 12ms/step - loss: 71.1229\n",
      "Epoch 30/100\n",
      "1/1 [==============================] - 0s 12ms/step - loss: 71.1218\n",
      "Epoch 31/100\n",
      "1/1 [==============================] - 0s 10ms/step - loss: 71.1207\n",
      "Epoch 32/100\n",
      "1/1 [==============================] - 0s 14ms/step - loss: 71.1196\n",
      "Epoch 33/100\n",
      "1/1 [==============================] - 0s 6ms/step - loss: 71.1185\n",
      "Epoch 34/100\n",
      "1/1 [==============================] - 0s 5ms/step - loss: 71.1173\n",
      "Epoch 35/100\n",
      "1/1 [==============================] - 0s 4ms/step - loss: 71.1162\n",
      "Epoch 36/100\n",
      "1/1 [==============================] - 0s 7ms/step - loss: 71.1151\n",
      "Epoch 37/100\n",
      "1/1 [==============================] - 0s 5ms/step - loss: 71.1140\n",
      "Epoch 38/100\n",
      "1/1 [==============================] - 0s 10ms/step - loss: 71.1129\n",
      "Epoch 39/100\n",
      "1/1 [==============================] - 0s 5ms/step - loss: 71.1118\n",
      "Epoch 40/100\n",
      "1/1 [==============================] - 0s 3ms/step - loss: 71.1107\n",
      "Epoch 41/100\n",
      "1/1 [==============================] - 0s 5ms/step - loss: 71.1096\n",
      "Epoch 42/100\n",
      "1/1 [==============================] - 0s 6ms/step - loss: 71.1085\n",
      "Epoch 43/100\n",
      "1/1 [==============================] - 0s 6ms/step - loss: 71.1074\n",
      "Epoch 44/100\n",
      "1/1 [==============================] - 0s 4ms/step - loss: 71.1063\n",
      "Epoch 45/100\n",
      "1/1 [==============================] - 0s 3ms/step - loss: 71.1052\n",
      "Epoch 46/100\n",
      "1/1 [==============================] - 0s 4ms/step - loss: 71.1041\n",
      "Epoch 47/100\n",
      "1/1 [==============================] - 0s 13ms/step - loss: 71.1030\n",
      "Epoch 48/100\n",
      "1/1 [==============================] - 0s 7ms/step - loss: 71.1019\n",
      "Epoch 49/100\n",
      "1/1 [==============================] - 0s 8ms/step - loss: 71.1008\n",
      "Epoch 50/100\n",
      "1/1 [==============================] - 0s 12ms/step - loss: 71.0997\n",
      "Epoch 51/100\n",
      "1/1 [==============================] - 0s 9ms/step - loss: 71.0986\n",
      "Epoch 52/100\n",
      "1/1 [==============================] - 0s 12ms/step - loss: 71.0975\n",
      "Epoch 53/100\n",
      "1/1 [==============================] - 0s 5ms/step - loss: 71.0963\n",
      "Epoch 54/100\n",
      "1/1 [==============================] - 0s 6ms/step - loss: 71.0952\n",
      "Epoch 55/100\n",
      "1/1 [==============================] - 0s 7ms/step - loss: 71.0941\n",
      "Epoch 56/100\n",
      "1/1 [==============================] - 0s 3ms/step - loss: 71.0930\n",
      "Epoch 57/100\n",
      "1/1 [==============================] - 0s 4ms/step - loss: 71.0919\n",
      "Epoch 58/100\n",
      "1/1 [==============================] - 0s 4ms/step - loss: 71.0908\n",
      "Epoch 59/100\n",
      "1/1 [==============================] - 0s 5ms/step - loss: 71.0897\n",
      "Epoch 60/100\n",
      "1/1 [==============================] - 0s 5ms/step - loss: 71.0886\n",
      "Epoch 61/100\n",
      "1/1 [==============================] - 0s 6ms/step - loss: 71.0875\n",
      "Epoch 62/100\n",
      "1/1 [==============================] - 0s 10ms/step - loss: 71.0864\n",
      "Epoch 63/100\n",
      "1/1 [==============================] - 0s 10ms/step - loss: 71.0853\n",
      "Epoch 64/100\n",
      "1/1 [==============================] - 0s 5ms/step - loss: 71.0842\n",
      "Epoch 65/100\n",
      "1/1 [==============================] - 0s 10ms/step - loss: 71.0831\n",
      "Epoch 66/100\n",
      "1/1 [==============================] - 0s 7ms/step - loss: 71.0820\n",
      "Epoch 67/100\n",
      "1/1 [==============================] - 0s 5ms/step - loss: 71.0809\n",
      "Epoch 68/100\n",
      "1/1 [==============================] - 0s 4ms/step - loss: 71.0798\n",
      "Epoch 69/100\n",
      "1/1 [==============================] - 0s 4ms/step - loss: 71.0786\n",
      "Epoch 70/100\n",
      "1/1 [==============================] - 0s 8ms/step - loss: 71.0775\n",
      "Epoch 71/100\n",
      "1/1 [==============================] - 0s 6ms/step - loss: 71.0764\n",
      "Epoch 72/100\n",
      "1/1 [==============================] - 0s 3ms/step - loss: 71.0753\n",
      "Epoch 73/100\n",
      "1/1 [==============================] - 0s 5ms/step - loss: 71.0742\n",
      "Epoch 74/100\n",
      "1/1 [==============================] - 0s 11ms/step - loss: 71.0731\n",
      "Epoch 75/100\n",
      "1/1 [==============================] - 0s 5ms/step - loss: 71.0720\n",
      "Epoch 76/100\n",
      "1/1 [==============================] - 0s 10ms/step - loss: 71.0709\n",
      "Epoch 77/100\n",
      "1/1 [==============================] - 0s 13ms/step - loss: 71.0698\n",
      "Epoch 78/100\n",
      "1/1 [==============================] - 0s 5ms/step - loss: 71.0687\n",
      "Epoch 79/100\n",
      "1/1 [==============================] - 0s 15ms/step - loss: 71.0676\n",
      "Epoch 80/100\n",
      "1/1 [==============================] - 0s 7ms/step - loss: 71.0665\n",
      "Epoch 81/100\n",
      "1/1 [==============================] - 0s 8ms/step - loss: 71.0654\n",
      "Epoch 82/100\n",
      "1/1 [==============================] - 0s 8ms/step - loss: 71.0643\n",
      "Epoch 83/100\n",
      "1/1 [==============================] - 0s 3ms/step - loss: 71.0632\n",
      "Epoch 84/100\n",
      "1/1 [==============================] - 0s 11ms/step - loss: 71.0621\n",
      "Epoch 85/100\n",
      "1/1 [==============================] - 0s 12ms/step - loss: 71.0610\n",
      "Epoch 86/100\n",
      "1/1 [==============================] - 0s 11ms/step - loss: 71.0599\n",
      "Epoch 87/100\n",
      "1/1 [==============================] - 0s 3ms/step - loss: 71.0588\n",
      "Epoch 88/100\n",
      "1/1 [==============================] - 0s 8ms/step - loss: 71.0577\n",
      "Epoch 89/100\n",
      "1/1 [==============================] - 0s 6ms/step - loss: 71.0566\n",
      "Epoch 90/100\n",
      "1/1 [==============================] - 0s 8ms/step - loss: 71.0555\n",
      "Epoch 91/100\n",
      "1/1 [==============================] - 0s 6ms/step - loss: 71.0544\n",
      "Epoch 92/100\n",
      "1/1 [==============================] - 0s 12ms/step - loss: 71.0533\n",
      "Epoch 93/100\n",
      "1/1 [==============================] - 0s 4ms/step - loss: 71.0523\n",
      "Epoch 94/100\n",
      "1/1 [==============================] - 0s 5ms/step - loss: 71.0512\n",
      "Epoch 95/100\n",
      "1/1 [==============================] - 0s 10ms/step - loss: 71.0501\n",
      "Epoch 96/100\n",
      "1/1 [==============================] - 0s 5ms/step - loss: 71.0490\n",
      "Epoch 97/100\n",
      "1/1 [==============================] - 0s 10ms/step - loss: 71.0479\n",
      "Epoch 98/100\n",
      "1/1 [==============================] - 0s 4ms/step - loss: 71.0468\n",
      "Epoch 99/100\n",
      "1/1 [==============================] - 0s 4ms/step - loss: 71.0458\n",
      "Epoch 100/100\n",
      "1/1 [==============================] - 0s 5ms/step - loss: 71.0447\n"
     ]
    },
    {
     "data": {
      "text/plain": [
       "<tensorflow.python.keras.callbacks.History at 0x7f8e45911d90>"
      ]
     },
     "execution_count": 24,
     "metadata": {},
     "output_type": "execute_result"
    }
   ],
   "source": [
    "# Fit the model\n",
    "model.fit(games_tourney_train[['seed_diff', 'pred']],\n",
    "  \t\t  games_tourney_train[['score_1', 'score_2']],\n",
    "  \t\t  verbose=True,\n",
    "  \t\t  epochs=100,\n",
    "  \t\t  batch_size=16384)"
   ]
  },
  {
   "cell_type": "code",
   "execution_count": 25,
   "id": "9612f465",
   "metadata": {},
   "outputs": [
    {
     "name": "stdout",
     "output_type": "stream",
     "text": [
      "[array([[-0.6723117 , -0.25350887],\n",
      "       [-0.48401794, -0.99180037]], dtype=float32), array([0.10000434, 0.09999995], dtype=float32)]\n",
      "season        2001.171110\n",
      "team_1        5592.724603\n",
      "team_2        5638.273034\n",
      "home             0.000000\n",
      "seed_diff        0.023625\n",
      "score_diff      -0.104961\n",
      "score_1         71.032400\n",
      "score_2         71.137361\n",
      "won              0.501856\n",
      "pred             0.064775\n",
      "dtype: float64\n"
     ]
    }
   ],
   "source": [
    "# Print the model's weights\n",
    "print(model.get_weights())\n",
    "\n",
    "# Print the column means of the training data\n",
    "print(games_tourney_train.mean())"
   ]
  },
  {
   "cell_type": "code",
   "execution_count": 27,
   "id": "a9bf223a",
   "metadata": {},
   "outputs": [
    {
     "name": "stdout",
     "output_type": "stream",
     "text": [
      "71.00264739990234\n"
     ]
    }
   ],
   "source": [
    "print(model.evaluate(games_tourney_test[['seed_diff', 'pred']],\n",
    "               games_tourney_test[['score_1', 'score_2']], verbose=False))"
   ]
  },
  {
   "cell_type": "markdown",
   "id": "07adc7d0",
   "metadata": {},
   "source": [
    "### Classification and regression in one model\n",
    "\n",
    "Now you will create a different kind of 2-output model. This time, you will predict the score difference, instead of both team's scores and then you will predict the probability that team 1 won the game. This is a pretty cool model: it is going to do both classification and regression!\n",
    "\n",
    "In this model, turn off the bias, or intercept for each layer. Your inputs (seed difference and predicted score difference) have a mean of very close to zero, and your outputs both have means that are close to zero, so your model shouldn't need the bias term to fit the data well.\n",
    "\n",
    "* Instructions\n",
    "\n",
    "    * Create a single input layer with 2 columns.\n",
    "    * The first output layer should have 1 unit with 'linear' activation and no bias term.\n",
    "    * The second output layer should have 1 unit with 'sigmoid' activation and no bias term. Also, use the first output layer as an input to this layer.\n",
    "    * Create a model with these input and outputs.\n",
    "\n"
   ]
  },
  {
   "cell_type": "code",
   "execution_count": 28,
   "id": "6f853bfc",
   "metadata": {},
   "outputs": [],
   "source": [
    "# Create an input layer with 2 columns\n",
    "input_tensor = Input(shape=(2,))\n",
    "\n",
    "# Create the first output\n",
    "output_tensor_1 = Dense(1, activation='linear', use_bias=False)(input_tensor)\n",
    "\n",
    "# Create the second output (use the first output as input here)\n",
    "output_tensor_2 = Dense(1, activation='sigmoid', use_bias=False)(output_tensor_1)\n",
    "\n",
    "# Create a model with 2 outputs\n",
    "model = Model(input_tensor, [output_tensor_1, output_tensor_2])"
   ]
  },
  {
   "cell_type": "markdown",
   "id": "0f25eebe",
   "metadata": {},
   "source": [
    "### Compile and fit the model\n",
    "\n",
    "Now that you have a model with 2 outputs, compile it with 2 loss functions: mean absolute error (MAE) for 'score_diff' and binary cross-entropy (also known as logloss) for 'won'. Then fit the model with 'seed_diff' and 'pred' as inputs. For outputs, predict 'score_diff' and 'won'.\n",
    "\n",
    "This model can use the scores of the games to make sure that close games (small score diff) have lower win probabilities than blowouts (large score diff).\n",
    "\n",
    "The regression problem is easier than the classification problem because MAE punishes the model less for a loss due to random chance. For example, if score_diff is -1 and won is 0, that means team_1 had some bad luck and lost by a single free throw. The data for the easy problem helps the model find a solution to the hard problem.\n",
    "* Instructions\n",
    "\n",
    "    * Import Adam from keras.optimizers.\n",
    "    * Compile the model with 2 losses: 'mean_absolute_error' and 'binary_crossentropy', and use the Adam optimizer with a learning rate of 0.01.\n",
    "    * Fit the model with 'seed_diff' and 'pred' columns as the inputs and 'score_diff' and 'won' columns as the targets.\n",
    "    * Use 10 epochs and a batch size of 16384.\n"
   ]
  },
  {
   "cell_type": "code",
   "execution_count": 30,
   "id": "7638ea8d",
   "metadata": {},
   "outputs": [
    {
     "name": "stdout",
     "output_type": "stream",
     "text": [
      "Epoch 1/10\n",
      "1/1 [==============================] - 0s 424ms/step - loss: 32.9832 - dense_6_loss: 19.8141 - dense_7_loss: 13.1691\n",
      "Epoch 2/10\n",
      "1/1 [==============================] - 0s 4ms/step - loss: 32.5773 - dense_6_loss: 19.6816 - dense_7_loss: 12.8957\n",
      "Epoch 3/10\n",
      "1/1 [==============================] - 0s 12ms/step - loss: 32.1742 - dense_6_loss: 19.5493 - dense_7_loss: 12.6250\n",
      "Epoch 4/10\n",
      "1/1 [==============================] - 0s 4ms/step - loss: 31.7740 - dense_6_loss: 19.4171 - dense_7_loss: 12.3569\n",
      "Epoch 5/10\n",
      "1/1 [==============================] - 0s 5ms/step - loss: 31.3768 - dense_6_loss: 19.2851 - dense_7_loss: 12.0916\n",
      "Epoch 6/10\n",
      "1/1 [==============================] - 0s 5ms/step - loss: 30.9826 - dense_6_loss: 19.1536 - dense_7_loss: 11.8291\n",
      "Epoch 7/10\n",
      "1/1 [==============================] - 0s 6ms/step - loss: 30.5916 - dense_6_loss: 19.0223 - dense_7_loss: 11.5693\n",
      "Epoch 8/10\n",
      "1/1 [==============================] - 0s 9ms/step - loss: 30.2039 - dense_6_loss: 18.8915 - dense_7_loss: 11.3124\n",
      "Epoch 9/10\n",
      "1/1 [==============================] - 0s 3ms/step - loss: 29.8192 - dense_6_loss: 18.7608 - dense_7_loss: 11.0584\n",
      "Epoch 10/10\n",
      "1/1 [==============================] - 0s 3ms/step - loss: 29.4379 - dense_6_loss: 18.6306 - dense_7_loss: 10.8073\n"
     ]
    },
    {
     "data": {
      "text/plain": [
       "<tensorflow.python.keras.callbacks.History at 0x7f8e3dcda0d0>"
      ]
     },
     "execution_count": 30,
     "metadata": {},
     "output_type": "execute_result"
    }
   ],
   "source": [
    "# Import the Adam optimizer\n",
    "from tensorflow.keras.optimizers import Adam\n",
    "\n",
    "# Compile the model with 2 losses and the Adam optimzer with a higher learning rate\n",
    "model.compile(loss=['mean_absolute_error', 'binary_crossentropy'], optimizer=Adam(.01))\n",
    "\n",
    "# Fit the model to the tournament training data, with 2 inputs and 2 outputs\n",
    "model.fit(games_tourney_train[['seed_diff', 'pred']],\n",
    "          [games_tourney_train[['score_diff']], games_tourney_train[['won']]],\n",
    "          epochs=10,\n",
    "          verbose=True,\n",
    "          batch_size=16384)"
   ]
  },
  {
   "cell_type": "code",
   "execution_count": 31,
   "id": "0b848bff",
   "metadata": {},
   "outputs": [
    {
     "name": "stdout",
     "output_type": "stream",
     "text": [
      "[array([[ 0.16504034],\n",
      "       [-1.0573688 ]], dtype=float32), array([[1.4228725]], dtype=float32)]\n",
      "season        2001.171110\n",
      "team_1        5592.724603\n",
      "team_2        5638.273034\n",
      "home             0.000000\n",
      "seed_diff        0.023625\n",
      "score_diff      -0.104961\n",
      "score_1         71.032400\n",
      "score_2         71.137361\n",
      "won              0.501856\n",
      "pred             0.064775\n",
      "dtype: float64\n"
     ]
    }
   ],
   "source": [
    "# Print the model weights\n",
    "print(model.get_weights())\n",
    "\n",
    "# Print the training data means\n",
    "print(games_tourney_train.mean())"
   ]
  },
  {
   "cell_type": "code",
   "execution_count": 32,
   "id": "e720aa40",
   "metadata": {},
   "outputs": [
    {
     "name": "stdout",
     "output_type": "stream",
     "text": [
      "0.5349429451582145\n",
      "0.8021838885585818\n"
     ]
    }
   ],
   "source": [
    "# Import the sigmoid function from scipy\n",
    "from scipy.special import expit as sigmoid\n",
    "\n",
    "# Weight from the model\n",
    "weight = 0.14\n",
    "\n",
    "# Print the approximate win probability of a predicted close game\n",
    "print(sigmoid(1 * weight))\n",
    "\n",
    "# Print the approximate win probability of a predicted blowout game\n",
    "print(sigmoid(10 * weight))"
   ]
  },
  {
   "cell_type": "code",
   "execution_count": 33,
   "id": "ca1b61b2",
   "metadata": {},
   "outputs": [
    {
     "name": "stdout",
     "output_type": "stream",
     "text": [
      "[29.483139038085938, 18.926162719726562, 10.556974411010742]\n"
     ]
    }
   ],
   "source": [
    "# Evaluate the model on new data\n",
    "print(model.evaluate(games_tourney_test[['seed_diff', 'pred']],\n",
    "               [games_tourney_test[['score_diff']], games_tourney_test[['won']]], verbose=False))"
   ]
  },
  {
   "cell_type": "code",
   "execution_count": null,
   "id": "511beae1",
   "metadata": {},
   "outputs": [],
   "source": []
  },
  {
   "cell_type": "code",
   "execution_count": null,
   "id": "12e115ee",
   "metadata": {},
   "outputs": [],
   "source": []
  }
 ],
 "metadata": {
  "kernelspec": {
   "display_name": "Python 3 (ipykernel)",
   "language": "python",
   "name": "python3"
  },
  "language_info": {
   "codemirror_mode": {
    "name": "ipython",
    "version": 3
   },
   "file_extension": ".py",
   "mimetype": "text/x-python",
   "name": "python",
   "nbconvert_exporter": "python",
   "pygments_lexer": "ipython3",
   "version": "3.8.10"
  }
 },
 "nbformat": 4,
 "nbformat_minor": 5
}
